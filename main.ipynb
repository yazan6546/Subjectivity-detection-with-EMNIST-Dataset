{
  "cells": [
    {
      "cell_type": "code",
      "execution_count": null,
      "metadata": {
        "id": "vf6omna0i_tZ"
      },
      "outputs": [],
      "source": [
        "import pandas as pd\n",
        "import torch\n",
        "from torch.utils.data import Dataset, DataLoader\n",
        "from torchvision import transforms, models\n",
        "import torch.nn as nn\n",
        "import torch.optim as optim\n",
        "import matplotlib.pyplot as plt"
      ]
    },
    {
      "cell_type": "code",
      "execution_count": 2,
      "metadata": {
        "colab": {
          "base_uri": "https://localhost:8080/"
        },
        "id": "3PKvGc21t5mG",
        "outputId": "fbf5e4f4-de5e-4c11-e6b9-a9456db96d52"
      },
      "outputs": [
        {
          "name": "stdout",
          "output_type": "stream",
          "text": [
            "Mounted at /content/drive\n"
          ]
        }
      ],
      "source": [
        "from google.colab import drive\n",
        "drive.mount('/content/drive')"
      ]
    },
    {
      "cell_type": "code",
      "execution_count": 3,
      "metadata": {
        "id": "7gC9RmRdO7eO"
      },
      "outputs": [],
      "source": [
        "device = torch.device(\"cuda:0\" if torch.cuda.is_available() else \"cpu\")"
      ]
    },
    {
      "cell_type": "code",
      "execution_count": 4,
      "metadata": {
        "colab": {
          "base_uri": "https://localhost:8080/"
        },
        "id": "kiRsRt0IPG-c",
        "outputId": "ec64f45a-03ff-4df4-d9a5-7b1d72f645ad"
      },
      "outputs": [
        {
          "data": {
            "text/plain": [
              "device(type='cuda', index=0)"
            ]
          },
          "execution_count": 4,
          "metadata": {},
          "output_type": "execute_result"
        }
      ],
      "source": [
        "device"
      ]
    },
    {
      "cell_type": "code",
      "execution_count": null,
      "metadata": {
        "id": "byRRFO16kvRF"
      },
      "outputs": [],
      "source": [
        "# Load the mapping from mapping.txt\n",
        "def load_mapping(mapping_file):\n",
        "    mapping = {}\n",
        "    with open(mapping_file, 'r') as f:\n",
        "        for line in f:\n",
        "            key, value = line.strip().split()\n",
        "            mapping[int(key)] = chr(int(value))\n",
        "    return mapping"
      ]
    },
    {
      "cell_type": "code",
      "execution_count": null,
      "metadata": {
        "id": "FPWYS748oK8S"
      },
      "outputs": [],
      "source": []
    },
    {
      "cell_type": "code",
      "execution_count": null,
      "metadata": {
        "colab": {
          "base_uri": "https://localhost:8080/",
          "height": 235
        },
        "id": "kSYZtm6rj1Vx",
        "outputId": "5896d782-b3bf-4d6c-a56a-2a835d43268c"
      },
      "outputs": [
        {
          "data": {
            "image/png": "[encoded data removed]",
            "text/plain": [
              "<Figure size 1500x300 with 5 Axes>"
            ]
          },
          "metadata": {},
          "output_type": "display_data"
        }
      ],
      "source": [
        "import matplotlib.pyplot as plt\n",
        "# Display the first few images along with their ASCII labels\n",
        "def show_images(dataset, mapping, num_images=5):\n",
        "    fig, axes = plt.subplots(1, num_images, figsize=(15, 3))\n",
        "    for i in range(num_images):\n",
        "        image, label = dataset[i]\n",
        "        image = image.numpy().squeeze()\n",
        "        ascii_label = mapping[label]\n",
        "        axes[i].imshow(image, cmap='gray')\n",
        "        axes[i].set_title(f'Label: {ascii_label}')\n",
        "        axes[i].axis('off')\n",
        "    plt.show()\n",
        "\n",
        "show_images(dataset, mapping=mapping, num_images=5)"
      ]
    },
    {
      "cell_type": "code",
      "execution_count": null,
      "metadata": {
        "id": "q7qo0opU1uMp"
      },
      "outputs": [],
      "source": [
        "\n"
      ]
    },
    {
      "cell_type": "code",
      "execution_count": null,
      "metadata": {
        "id": "efXx47iDy2PH"
      },
      "outputs": [],
      "source": []
    },
    {
      "cell_type": "code",
      "execution_count": null,
      "metadata": {
        "id": "7j8cuJB-2n59"
      },
      "outputs": [],
      "source": [
        "import os\n",
        "\n",
        "class CharacterDataset(Dataset):\n",
        "    def __init__(self, csv_file, transform=None):\n",
        "        self.data = pd.read_csv(csv_file)\n",
        "        self.labels = self.data.iloc[:, 0].values\n",
        "        self.images = self.data.iloc[:, 1:].values.reshape(-1, 28, 28).astype('float32')\n",
        "        self.transform = transform\n",
        "\n",
        "    def __len__(self):\n",
        "        return len(self.data)\n",
        "\n",
        "    def __getitem__(self, idx):\n",
        "        image = self.images[idx]\n",
        "        label = self.labels[idx]\n",
        "        if self.transform:\n",
        "            image = self.transform(image)\n",
        "        return image, label\n",
        "\n",
        "# Define transformations\n",
        "transform = transforms.Compose([\n",
        "    transforms.ToTensor(),\n",
        "    transforms.Normalize((0.5,), (0.5,))\n",
        "])"
      ]
    },
    {
      "cell_type": "code",
      "execution_count": null,
      "metadata": {
        "colab": {
          "base_uri": "https://localhost:8080/",
          "height": 182
        },
        "id": "Wk9IcGW38VLu",
        "outputId": "d03632e4-f93b-4201-b097-e9e1662c6536"
      },
      "outputs": [
        {
          "ename": "NameError",
          "evalue": "name 'batch_size' is not defined",
          "output_type": "error",
          "traceback": [
            "\u001b[0;31m---------------------------------------------------------------------------\u001b[0m",
            "\u001b[0;31mNameError\u001b[0m                                 Traceback (most recent call last)",
            "\u001b[0;32m<ipython-input-8-c4c2d792be20>\u001b[0m in \u001b[0;36m<cell line: 7>\u001b[0;34m()\u001b[0m\n\u001b[1;32m      5\u001b[0m \u001b[0;34m\u001b[0m\u001b[0m\n\u001b[1;32m      6\u001b[0m \u001b[0;31m# Create DataLoader for testing\u001b[0m\u001b[0;34m\u001b[0m\u001b[0;34m\u001b[0m\u001b[0m\n\u001b[0;32m----> 7\u001b[0;31m \u001b[0mtest_dataloader\u001b[0m \u001b[0;34m=\u001b[0m \u001b[0mDataLoader\u001b[0m\u001b[0;34m(\u001b[0m\u001b[0mtest_dataset\u001b[0m\u001b[0;34m,\u001b[0m \u001b[0mbatch_size\u001b[0m\u001b[0;34m=\u001b[0m\u001b[0mbatch_size\u001b[0m\u001b[0;34m,\u001b[0m \u001b[0mshuffle\u001b[0m\u001b[0;34m=\u001b[0m\u001b[0;32mFalse\u001b[0m\u001b[0;34m)\u001b[0m\u001b[0;34m\u001b[0m\u001b[0;34m\u001b[0m\u001b[0m\n\u001b[0m",
            "\u001b[0;31mNameError\u001b[0m: name 'batch_size' is not defined"
          ]
        }
      ],
      "source": [
        "\n",
        "\n",
        "PATH='drive/MyDrive/Subjectivity'\n",
        "\n",
        "test_csv_file = os.path.join(PATH, 'data', 'characters-test.csv')\n",
        "test_dataset = CharacterDataset(test_csv_file, transform=transform)\n",
        "\n",
        "# Create DataLoader for testing\n",
        "test_dataloader = DataLoader(test_dataset, batch_size=batch_size, shuffle=False)\n"
      ]
    },
    {
      "cell_type": "code",
      "execution_count": null,
      "metadata": {
        "colab": {
          "base_uri": "https://localhost:8080/"
        },
        "id": "X9kES4iX8Nt7",
        "outputId": "77bbd806-4b4b-411c-a783-09fdf4cca769"
      },
      "outputs": [
        {
          "name": "stdout",
          "output_type": "stream",
          "text": [
            "Test Accuracy: 75.4029469652641%\n"
          ]
        }
      ],
      "source": [
        "\n",
        "# # Evaluate the model on the test dataset\n",
        "# model.eval()\n",
        "# correct = 0\n",
        "# total = 0\n",
        "# with torch.no_grad():\n",
        "#     for images, labels in test_dataloader:\n",
        "#         images, labels = images.to(device), labels.to(device)\n",
        "#         outputs = model(images)\n",
        "#         _, predicted = torch.max(outputs.data, 1)\n",
        "#         total += labels.size(0)\n",
        "#         correct += (predicted == labels).sum().item()\n",
        "\n",
        "# print(f'Test Accuracy: {100 * correct / total}%')"
      ]
    },
    {
      "cell_type": "code",
      "execution_count": null,
      "metadata": {
        "colab": {
          "base_uri": "https://localhost:8080/"
        },
        "id": "kw3dzbgdxWFI",
        "outputId": "e300581f-34bd-4446-f463-fa4158ad2d87"
      },
      "outputs": [
        {
          "data": {
            "text/plain": [
              "device(type='cpu')"
            ]
          },
          "execution_count": 16,
          "metadata": {},
          "output_type": "execute_result"
        }
      ],
      "source": [
        "device"
      ]
    },
    {
      "cell_type": "code",
      "execution_count": null,
      "metadata": {
        "id": "ksCCAihC26gy"
      },
      "outputs": [],
      "source": [
        "\n",
        "import os\n",
        "\n",
        "class CharacterDataset(Dataset):\n",
        "    def __init__(self, csv_file, transform=None):\n",
        "        self.data = pd.read_csv(csv_file)\n",
        "        self.labels = self.data.iloc[:, 0].values\n",
        "        self.images = self.data.iloc[:, 1:].values.reshape(-1, 28, 28).astype('float32')\n",
        "        self.transform = transform\n",
        "\n",
        "    def __len__(self):\n",
        "        return len(self.data)\n",
        "\n",
        "    def __getitem__(self, idx):\n",
        "        image = self.images[idx]\n",
        "        label = self.labels[idx]\n",
        "        if self.transform:\n",
        "            image = self.transform(image)\n",
        "        return image, label\n",
        "\n",
        "# Define transformations\n",
        "transform = transforms.Compose([\n",
        "    transforms.ToPILImage(),\n",
        "    transforms.Resize((224, 224)),\n",
        "    transforms.Grayscale(num_output_channels=3),  # Convert single-channel to three channels\n",
        "    transforms.ToTensor(),\n",
        "    transforms.Normalize((0.5,), (0.5,))\n",
        "])"
      ]
    },
    {
      "cell_type": "code",
      "execution_count": null,
      "metadata": {
        "colab": {
          "base_uri": "https://localhost:8080/",
          "height": 351
        },
        "id": "SGDEBozJHceJ",
        "outputId": "a22d25db-f480-4d89-9297-2fdf0622d260"
      },
      "outputs": [
        {
          "ename": "FileNotFoundError",
          "evalue": "[Errno 2] No such file or directory: 'drive/MyDrive/Subjectivity/data/characters.csv'",
          "output_type": "error",
          "traceback": [
            "\u001b[0;31m---------------------------------------------------------------------------\u001b[0m",
            "\u001b[0;31mFileNotFoundError\u001b[0m                         Traceback (most recent call last)",
            "\u001b[0;32m<ipython-input-6-ee640604d777>\u001b[0m in \u001b[0;36m<cell line: 7>\u001b[0;34m()\u001b[0m\n\u001b[1;32m      5\u001b[0m \u001b[0;31m# Load the dataset\u001b[0m\u001b[0;34m\u001b[0m\u001b[0;34m\u001b[0m\u001b[0m\n\u001b[1;32m      6\u001b[0m \u001b[0mcsv_file\u001b[0m \u001b[0;34m=\u001b[0m \u001b[0mos\u001b[0m\u001b[0;34m.\u001b[0m\u001b[0mpath\u001b[0m\u001b[0;34m.\u001b[0m\u001b[0mjoin\u001b[0m\u001b[0;34m(\u001b[0m\u001b[0mPATH\u001b[0m\u001b[0;34m,\u001b[0m \u001b[0;34m'data'\u001b[0m\u001b[0;34m,\u001b[0m \u001b[0;34m'characters.csv'\u001b[0m\u001b[0;34m)\u001b[0m\u001b[0;34m\u001b[0m\u001b[0;34m\u001b[0m\u001b[0m\n\u001b[0;32m----> 7\u001b[0;31m \u001b[0mtrain_dataset\u001b[0m \u001b[0;34m=\u001b[0m \u001b[0mCharacterDataset\u001b[0m\u001b[0;34m(\u001b[0m\u001b[0mcsv_file\u001b[0m\u001b[0;34m,\u001b[0m \u001b[0mtransform\u001b[0m\u001b[0;34m=\u001b[0m\u001b[0mtransform\u001b[0m\u001b[0;34m)\u001b[0m\u001b[0;34m\u001b[0m\u001b[0;34m\u001b[0m\u001b[0m\n\u001b[0m",
            "\u001b[0;32m<ipython-input-5-c039cdab01f4>\u001b[0m in \u001b[0;36m__init__\u001b[0;34m(self, csv_file, transform)\u001b[0m\n\u001b[1;32m      9\u001b[0m \u001b[0;32mclass\u001b[0m \u001b[0mCharacterDataset\u001b[0m\u001b[0;34m(\u001b[0m\u001b[0mDataset\u001b[0m\u001b[0;34m)\u001b[0m\u001b[0;34m:\u001b[0m\u001b[0;34m\u001b[0m\u001b[0;34m\u001b[0m\u001b[0m\n\u001b[1;32m     10\u001b[0m     \u001b[0;32mdef\u001b[0m \u001b[0m__init__\u001b[0m\u001b[0;34m(\u001b[0m\u001b[0mself\u001b[0m\u001b[0;34m,\u001b[0m \u001b[0mcsv_file\u001b[0m\u001b[0;34m,\u001b[0m \u001b[0mtransform\u001b[0m\u001b[0;34m=\u001b[0m\u001b[0;32mNone\u001b[0m\u001b[0;34m)\u001b[0m\u001b[0;34m:\u001b[0m\u001b[0;34m\u001b[0m\u001b[0;34m\u001b[0m\u001b[0m\n\u001b[0;32m---> 11\u001b[0;31m         \u001b[0mself\u001b[0m\u001b[0;34m.\u001b[0m\u001b[0mdata\u001b[0m \u001b[0;34m=\u001b[0m \u001b[0mpd\u001b[0m\u001b[0;34m.\u001b[0m\u001b[0mread_csv\u001b[0m\u001b[0;34m(\u001b[0m\u001b[0mcsv_file\u001b[0m\u001b[0;34m)\u001b[0m\u001b[0;34m\u001b[0m\u001b[0;34m\u001b[0m\u001b[0m\n\u001b[0m\u001b[1;32m     12\u001b[0m         \u001b[0mself\u001b[0m\u001b[0;34m.\u001b[0m\u001b[0mlabels\u001b[0m \u001b[0;34m=\u001b[0m \u001b[0mself\u001b[0m\u001b[0;34m.\u001b[0m\u001b[0mdata\u001b[0m\u001b[0;34m.\u001b[0m\u001b[0miloc\u001b[0m\u001b[0;34m[\u001b[0m\u001b[0;34m:\u001b[0m\u001b[0;34m,\u001b[0m \u001b[0;36m0\u001b[0m\u001b[0;34m]\u001b[0m\u001b[0;34m.\u001b[0m\u001b[0mvalues\u001b[0m\u001b[0;34m\u001b[0m\u001b[0;34m\u001b[0m\u001b[0m\n\u001b[1;32m     13\u001b[0m         \u001b[0mself\u001b[0m\u001b[0;34m.\u001b[0m\u001b[0mimages\u001b[0m \u001b[0;34m=\u001b[0m \u001b[0mself\u001b[0m\u001b[0;34m.\u001b[0m\u001b[0mdata\u001b[0m\u001b[0;34m.\u001b[0m\u001b[0miloc\u001b[0m\u001b[0;34m[\u001b[0m\u001b[0;34m:\u001b[0m\u001b[0;34m,\u001b[0m \u001b[0;36m1\u001b[0m\u001b[0;34m:\u001b[0m\u001b[0;34m]\u001b[0m\u001b[0;34m.\u001b[0m\u001b[0mvalues\u001b[0m\u001b[0;34m.\u001b[0m\u001b[0mreshape\u001b[0m\u001b[0;34m(\u001b[0m\u001b[0;34m-\u001b[0m\u001b[0;36m1\u001b[0m\u001b[0;34m,\u001b[0m \u001b[0;36m28\u001b[0m\u001b[0;34m,\u001b[0m \u001b[0;36m28\u001b[0m\u001b[0;34m)\u001b[0m\u001b[0;34m.\u001b[0m\u001b[0mastype\u001b[0m\u001b[0;34m(\u001b[0m\u001b[0;34m'float32'\u001b[0m\u001b[0;34m)\u001b[0m\u001b[0;34m\u001b[0m\u001b[0;34m\u001b[0m\u001b[0m\n",
            "\u001b[0;32m/usr/local/lib/python3.10/dist-packages/pandas/io/parsers/readers.py\u001b[0m in \u001b[0;36mread_csv\u001b[0;34m(filepath_or_buffer, sep, delimiter, header, names, index_col, usecols, dtype, engine, converters, true_values, false_values, skipinitialspace, skiprows, skipfooter, nrows, na_values, keep_default_na, na_filter, verbose, skip_blank_lines, parse_dates, infer_datetime_format, keep_date_col, date_parser, date_format, dayfirst, cache_dates, iterator, chunksize, compression, thousands, decimal, lineterminator, quotechar, quoting, doublequote, escapechar, comment, encoding, encoding_errors, dialect, on_bad_lines, delim_whitespace, low_memory, memory_map, float_precision, storage_options, dtype_backend)\u001b[0m\n\u001b[1;32m   1024\u001b[0m     \u001b[0mkwds\u001b[0m\u001b[0;34m.\u001b[0m\u001b[0mupdate\u001b[0m\u001b[0;34m(\u001b[0m\u001b[0mkwds_defaults\u001b[0m\u001b[0;34m)\u001b[0m\u001b[0;34m\u001b[0m\u001b[0;34m\u001b[0m\u001b[0m\n\u001b[1;32m   1025\u001b[0m \u001b[0;34m\u001b[0m\u001b[0m\n\u001b[0;32m-> 1026\u001b[0;31m     \u001b[0;32mreturn\u001b[0m \u001b[0m_read\u001b[0m\u001b[0;34m(\u001b[0m\u001b[0mfilepath_or_buffer\u001b[0m\u001b[0;34m,\u001b[0m \u001b[0mkwds\u001b[0m\u001b[0;34m)\u001b[0m\u001b[0;34m\u001b[0m\u001b[0;34m\u001b[0m\u001b[0m\n\u001b[0m\u001b[1;32m   1027\u001b[0m \u001b[0;34m\u001b[0m\u001b[0m\n\u001b[1;32m   1028\u001b[0m \u001b[0;34m\u001b[0m\u001b[0m\n",
            "\u001b[0;32m/usr/local/lib/python3.10/dist-packages/pandas/io/parsers/readers.py\u001b[0m in \u001b[0;36m_read\u001b[0;34m(filepath_or_buffer, kwds)\u001b[0m\n\u001b[1;32m    618\u001b[0m \u001b[0;34m\u001b[0m\u001b[0m\n\u001b[1;32m    619\u001b[0m     \u001b[0;31m# Create the parser.\u001b[0m\u001b[0;34m\u001b[0m\u001b[0;34m\u001b[0m\u001b[0m\n\u001b[0;32m--> 620\u001b[0;31m     \u001b[0mparser\u001b[0m \u001b[0;34m=\u001b[0m \u001b[0mTextFileReader\u001b[0m\u001b[0;34m(\u001b[0m\u001b[0mfilepath_or_buffer\u001b[0m\u001b[0;34m,\u001b[0m \u001b[0;34m**\u001b[0m\u001b[0mkwds\u001b[0m\u001b[0;34m)\u001b[0m\u001b[0;34m\u001b[0m\u001b[0;34m\u001b[0m\u001b[0m\n\u001b[0m\u001b[1;32m    621\u001b[0m \u001b[0;34m\u001b[0m\u001b[0m\n\u001b[1;32m    622\u001b[0m     \u001b[0;32mif\u001b[0m \u001b[0mchunksize\u001b[0m \u001b[0;32mor\u001b[0m \u001b[0miterator\u001b[0m\u001b[0;34m:\u001b[0m\u001b[0;34m\u001b[0m\u001b[0;34m\u001b[0m\u001b[0m\n",
            "\u001b[0;32m/usr/local/lib/python3.10/dist-packages/pandas/io/parsers/readers.py\u001b[0m in \u001b[0;36m__init__\u001b[0;34m(self, f, engine, **kwds)\u001b[0m\n\u001b[1;32m   1618\u001b[0m \u001b[0;34m\u001b[0m\u001b[0m\n\u001b[1;32m   1619\u001b[0m         \u001b[0mself\u001b[0m\u001b[0;34m.\u001b[0m\u001b[0mhandles\u001b[0m\u001b[0;34m:\u001b[0m \u001b[0mIOHandles\u001b[0m \u001b[0;34m|\u001b[0m \u001b[0;32mNone\u001b[0m \u001b[0;34m=\u001b[0m \u001b[0;32mNone\u001b[0m\u001b[0;34m\u001b[0m\u001b[0;34m\u001b[0m\u001b[0m\n\u001b[0;32m-> 1620\u001b[0;31m         \u001b[0mself\u001b[0m\u001b[0;34m.\u001b[0m\u001b[0m_engine\u001b[0m \u001b[0;34m=\u001b[0m \u001b[0mself\u001b[0m\u001b[0;34m.\u001b[0m\u001b[0m_make_engine\u001b[0m\u001b[0;34m(\u001b[0m\u001b[0mf\u001b[0m\u001b[0;34m,\u001b[0m \u001b[0mself\u001b[0m\u001b[0;34m.\u001b[0m\u001b[0mengine\u001b[0m\u001b[0;34m)\u001b[0m\u001b[0;34m\u001b[0m\u001b[0;34m\u001b[0m\u001b[0m\n\u001b[0m\u001b[1;32m   1621\u001b[0m \u001b[0;34m\u001b[0m\u001b[0m\n\u001b[1;32m   1622\u001b[0m     \u001b[0;32mdef\u001b[0m \u001b[0mclose\u001b[0m\u001b[0;34m(\u001b[0m\u001b[0mself\u001b[0m\u001b[0;34m)\u001b[0m \u001b[0;34m->\u001b[0m \u001b[0;32mNone\u001b[0m\u001b[0;34m:\u001b[0m\u001b[0;34m\u001b[0m\u001b[0;34m\u001b[0m\u001b[0m\n",
            "\u001b[0;32m/usr/local/lib/python3.10/dist-packages/pandas/io/parsers/readers.py\u001b[0m in \u001b[0;36m_make_engine\u001b[0;34m(self, f, engine)\u001b[0m\n\u001b[1;32m   1878\u001b[0m                 \u001b[0;32mif\u001b[0m \u001b[0;34m\"b\"\u001b[0m \u001b[0;32mnot\u001b[0m \u001b[0;32min\u001b[0m \u001b[0mmode\u001b[0m\u001b[0;34m:\u001b[0m\u001b[0;34m\u001b[0m\u001b[0;34m\u001b[0m\u001b[0m\n\u001b[1;32m   1879\u001b[0m                     \u001b[0mmode\u001b[0m \u001b[0;34m+=\u001b[0m \u001b[0;34m\"b\"\u001b[0m\u001b[0;34m\u001b[0m\u001b[0;34m\u001b[0m\u001b[0m\n\u001b[0;32m-> 1880\u001b[0;31m             self.handles = get_handle(\n\u001b[0m\u001b[1;32m   1881\u001b[0m                 \u001b[0mf\u001b[0m\u001b[0;34m,\u001b[0m\u001b[0;34m\u001b[0m\u001b[0;34m\u001b[0m\u001b[0m\n\u001b[1;32m   1882\u001b[0m                 \u001b[0mmode\u001b[0m\u001b[0;34m,\u001b[0m\u001b[0;34m\u001b[0m\u001b[0;34m\u001b[0m\u001b[0m\n",
            "\u001b[0;32m/usr/local/lib/python3.10/dist-packages/pandas/io/common.py\u001b[0m in \u001b[0;36mget_handle\u001b[0;34m(path_or_buf, mode, encoding, compression, memory_map, is_text, errors, storage_options)\u001b[0m\n\u001b[1;32m    871\u001b[0m         \u001b[0;32mif\u001b[0m \u001b[0mioargs\u001b[0m\u001b[0;34m.\u001b[0m\u001b[0mencoding\u001b[0m \u001b[0;32mand\u001b[0m \u001b[0;34m\"b\"\u001b[0m \u001b[0;32mnot\u001b[0m \u001b[0;32min\u001b[0m \u001b[0mioargs\u001b[0m\u001b[0;34m.\u001b[0m\u001b[0mmode\u001b[0m\u001b[0;34m:\u001b[0m\u001b[0;34m\u001b[0m\u001b[0;34m\u001b[0m\u001b[0m\n\u001b[1;32m    872\u001b[0m             \u001b[0;31m# Encoding\u001b[0m\u001b[0;34m\u001b[0m\u001b[0;34m\u001b[0m\u001b[0m\n\u001b[0;32m--> 873\u001b[0;31m             handle = open(\n\u001b[0m\u001b[1;32m    874\u001b[0m                 \u001b[0mhandle\u001b[0m\u001b[0;34m,\u001b[0m\u001b[0;34m\u001b[0m\u001b[0;34m\u001b[0m\u001b[0m\n\u001b[1;32m    875\u001b[0m                 \u001b[0mioargs\u001b[0m\u001b[0;34m.\u001b[0m\u001b[0mmode\u001b[0m\u001b[0;34m,\u001b[0m\u001b[0;34m\u001b[0m\u001b[0;34m\u001b[0m\u001b[0m\n",
            "\u001b[0;31mFileNotFoundError\u001b[0m: [Errno 2] No such file or directory: 'drive/MyDrive/Subjectivity/data/characters.csv'"
          ]
        }
      ],
      "source": [
        "import os\n",
        "\n",
        "PATH='drive/MyDrive/Subjectivity'\n",
        "\n",
        "# Load the dataset\n",
        "csv_file = os.path.join(PATH, 'data', 'characters.csv')\n",
        "train_dataset = CharacterDataset(csv_file, transform=transform)"
      ]
    },
    {
      "cell_type": "code",
      "execution_count": null,
      "metadata": {
        "id": "yj8cbat-HXZ1"
      },
      "outputs": [],
      "source": [
        "\n",
        "test_csv_file = os.path.join(PATH, 'data', 'characters-test.csv')\n",
        "\n",
        "test_dataset = CharacterDataset(test_csv_file, transform=transform)"
      ]
    },
    {
      "cell_type": "code",
      "execution_count": null,
      "metadata": {
        "id": "OIFQpCgZxTJC"
      },
      "outputs": [],
      "source": [
        "mapping_file = os.path.join(PATH, 'data', 'mapping.txt')\n",
        "mapping = load_mapping(mapping_file)"
      ]
    },
    {
      "cell_type": "code",
      "execution_count": null,
      "metadata": {
        "id": "8VQAGv9xGzRi"
      },
      "outputs": [],
      "source": [
        "\n",
        "# Function to create the model\n",
        "def create_model():\n",
        "    model = models.resnet18(pretrained=True)\n",
        "\n",
        "    # Move the model to GPU if available\n",
        "    device = torch.device(\"cuda:0\" if torch.cuda.is_available() else \"cpu\")\n",
        "    model = model.to(device)\n",
        "\n",
        "    print(device)\n",
        "\n",
        "    num_ftrs = model.fc.in_features\n",
        "    model.fc = nn.Linear(num_ftrs, len(mapping))\n",
        "\n",
        "    # Freeze all layers except the last three\n",
        "    for name, param in model.named_parameters():\n",
        "        if \"layer4\" not in name and \"fc\" not in name:\n",
        "            param.requires_grad = False\n",
        "\n",
        "    return model\n",
        "\n",
        "# Function to train the model\n",
        "def train_model(model, train_dataloader, learning_rate, num_epochs=10):\n",
        "    device = torch.device(\"cuda:0\" if torch.cuda.is_available() else \"cpu\")\n",
        "    model = model.to(device)\n",
        "    criterion = nn.CrossEntropyLoss()\n",
        "    optimizer = optim.Adam(filter(lambda p: p.requires_grad, model.parameters()), lr=learning_rate)\n",
        "\n",
        "    for epoch in range(num_epochs):\n",
        "        model.train()\n",
        "        running_loss = 0.0\n",
        "        for images, labels in train_dataloader:\n",
        "            images, labels = images.to(device), labels.to(device)\n",
        "            optimizer.zero_grad()\n",
        "            outputs = model(images)\n",
        "            loss = criterion(outputs, labels)\n",
        "            loss.backward()\n",
        "            optimizer.step()\n",
        "            running_loss += loss.item()\n",
        "        print(f'Epoch [{epoch+1}/{num_epochs}], Loss: {running_loss/len(train_dataloader)}')\n",
        "\n",
        "    return model\n",
        "\n",
        "# Function to save the model\n",
        "def save_model(model, learning_rate, batch_size):\n",
        "    model_path = f'resnet18_finetuned_lr{learning_rate}_bs{batch_size}.pth'\n",
        "    torch.save(model.state_dict(), model_path)\n",
        "    print(f'Model saved to {model_path}')\n",
        "\n",
        "# Function to evaluate the model\n",
        "def evaluate_model(model, test_dataloader):\n",
        "    device = torch.device(\"cuda:0\" if torch.cuda.is_available() else \"cpu\")\n",
        "    model = model.to(device)\n",
        "    model.eval()\n",
        "    correct = 0\n",
        "    total = 0\n",
        "    with torch.no_grad():\n",
        "        for images, labels in test_dataloader:\n",
        "            images, labels = images.to(device), labels.to(device)\n",
        "            outputs = model(images)\n",
        "            _, predicted = torch.max(outputs.data, 1)\n",
        "            total += labels.size(0)\n",
        "            correct += (predicted == labels).sum().item()\n",
        "\n",
        "    accuracy = 100 * correct / total\n",
        "    print(f'Test Accuracy: {accuracy}%')\n",
        "    return accuracy\n",
        "\n"
      ]
    },
    {
      "cell_type": "code",
      "execution_count": null,
      "metadata": {
        "colab": {
          "base_uri": "https://localhost:8080/"
        },
        "id": "-ohJHUjNG-6R",
        "outputId": "9be8e242-6fbf-4979-bbad-43c73dcd3382"
      },
      "outputs": [
        {
          "name": "stdout",
          "output_type": "stream",
          "text": [
            "Training with learning rate: 0.0001, batch size: 32\n"
          ]
        },
        {
          "name": "stderr",
          "output_type": "stream",
          "text": [
            "/usr/local/lib/python3.10/dist-packages/torchvision/models/_utils.py:208: UserWarning: The parameter 'pretrained' is deprecated since 0.13 and may be removed in the future, please use 'weights' instead.\n",
            "  warnings.warn(\n",
            "/usr/local/lib/python3.10/dist-packages/torchvision/models/_utils.py:223: UserWarning: Arguments other than a weight enum or `None` for 'weights' are deprecated since 0.13 and may be removed in the future. The current behavior is equivalent to passing `weights=ResNet18_Weights.IMAGENET1K_V1`. You can also use `weights=ResNet18_Weights.DEFAULT` to get the most up-to-date weights.\n",
            "  warnings.warn(msg)\n",
            "Downloading: \"https://download.pytorch.org/models/resnet18-f37072fd.pth\" to /root/.cache/torch/hub/checkpoints/resnet18-f37072fd.pth\n",
            "100%|██████████| 44.7M/44.7M [00:00<00:00, 150MB/s]\n"
          ]
        },
        {
          "name": "stdout",
          "output_type": "stream",
          "text": [
            "cpu\n"
          ]
        }
      ],
      "source": [
        "# Experiment with different learning rates and batch sizes\n",
        "learning_rates = [0.0001]\n",
        "batch_sizes = [32, 64]\n",
        "\n",
        "results = []\n",
        "for lr in learning_rates:\n",
        "    for bs in batch_sizes:\n",
        "        print(f'Training with learning rate: {lr}, batch size: {bs}')\n",
        "\n",
        "        # Create DataLoader for training\n",
        "        train_dataloader = DataLoader(train_dataset, batch_size=bs, shuffle=True)\n",
        "        test_dataloader = DataLoader(test_dataset, batch_size=bs, shuffle=False)\n",
        "\n",
        "        # Create and train the model\n",
        "        model = create_model()\n",
        "        model = train_model(model, train_dataloader, lr)\n",
        "\n",
        "        # Save the model\n",
        "        save_model(model, lr, bs)\n",
        "\n",
        "        # Evaluate the model\n",
        "        accuracy = evaluate_model(model, test_dataloader)\n",
        "        results.append((lr, bs, accuracy))\n",
        "\n",
        "# Print results\n",
        "for lr, bs, acc in results:\n",
        "    print(f'Learning Rate: {lr}, Batch Size: {bs}, Test Accuracy: {acc}%')"
      ]
    },
    {
      "cell_type": "code",
      "execution_count": null,
      "metadata": {
        "id": "sGRD_XaXPttL"
      },
      "outputs": [],
      "source": [
        "# Define transformations\n",
        "transform = transforms.Compose([\n",
        "    transforms.ToPILImage(),\n",
        "    transforms.Resize((28, 28)),\n",
        "    transforms.Grayscale(num_output_channels=1),  # Ensure single-channel images\n",
        "    transforms.ToTensor(),\n",
        "    transforms.Normalize((0.5,), (0.5,))\n",
        "])"
      ]
    },
    {
      "cell_type": "code",
      "execution_count": null,
      "metadata": {
        "id": "e2XgQizIP8Na"
      },
      "outputs": [],
      "source": [
        "\n",
        "# Load the mapping from mapping.txt\n",
        "def load_mapping(mapping_file):\n",
        "    mapping = {}\n",
        "    with open(mapping_file, 'r') as f:\n",
        "        for line in f:\n",
        "            key, value = line.strip().split()\n",
        "            mapping[int(key)] = chr(int(value))\n",
        "    return mapping"
      ]
    },
    {
      "cell_type": "code",
      "execution_count": null,
      "metadata": {
        "id": "rPMyWGzhP1en"
      },
      "outputs": [],
      "source": [
        "import os\n",
        "\n",
        "\n",
        "mapping_file = os.path.join(PATH, 'data', 'mapping.txt')\n",
        "mapping = load_mapping(mapping_file)\n",
        "\n",
        "\n",
        "test_csv_file = os.path.join(PATH, 'data', 'characters-test.csv')\n",
        "\n",
        "test_dataset = CharacterDataset(test_csv_file, transform=transform)\n",
        "\n",
        "PATH='drive/MyDrive/Subjectivity'\n",
        "\n",
        "# Load the dataset\n",
        "csv_file = os.path.join(PATH, 'data', 'characters.csv')\n",
        "train_dataset = CharacterDataset(csv_file, transform=transform)"
      ]
    },
    {
      "cell_type": "code",
      "execution_count": null,
      "metadata": {
        "colab": {
          "base_uri": "https://localhost:8080/"
        },
        "id": "oWBmX75XOxnn",
        "outputId": "cf78e295-ec9d-44c7-d32e-327b869f9856"
      },
      "outputs": [
        {
          "name": "stdout",
          "output_type": "stream",
          "text": [
            "Training with learning rate: 0.001, batch size: 64, conv layers: 2, fc layers: 1\n",
            "Epoch [1/10], Loss: 0.7109874288212895\n",
            "Epoch [2/10], Loss: 0.43929021836797827\n",
            "Epoch [3/10], Loss: 0.3753047070750714\n",
            "Epoch [4/10], Loss: 0.32908195918991157\n",
            "Epoch [5/10], Loss: 0.29487128223182124\n",
            "Epoch [6/10], Loss: 0.2628828048984976\n",
            "Epoch [7/10], Loss: 0.23985590739360568\n",
            "Epoch [8/10], Loss: 0.21692587150618967\n",
            "Epoch [9/10], Loss: 0.2002901548199605\n",
            "Epoch [10/10], Loss: 0.18487916001548196\n",
            "Model saved to custom_cnn_lr0.001_bs64_conv2_fc1.pth\n",
            "Test Accuracy: 84.48321719240386%\n",
            "Training with learning rate: 0.001, batch size: 64, conv layers: 2, fc layers: 2\n",
            "Epoch [1/10], Loss: 1.0399270086415573\n",
            "Epoch [2/10], Loss: 0.6561686748884918\n",
            "Epoch [3/10], Loss: 0.580873777547886\n",
            "Epoch [4/10], Loss: 0.5385572908195797\n",
            "Epoch [5/10], Loss: 0.5036691162593651\n",
            "Epoch [6/10], Loss: 0.4781480223887087\n",
            "Epoch [7/10], Loss: 0.4579063706095761\n",
            "Epoch [8/10], Loss: 0.4408851809803897\n",
            "Epoch [9/10], Loss: 0.42345460718555744\n",
            "Epoch [10/10], Loss: 0.4085453230839052\n",
            "Model saved to custom_cnn_lr0.001_bs64_conv2_fc2.pth\n",
            "Test Accuracy: 86.73333687962126%\n",
            "Training with learning rate: 0.001, batch size: 64, conv layers: 3, fc layers: 1\n",
            "Epoch [1/10], Loss: 0.6729717358684784\n",
            "Epoch [2/10], Loss: 0.3871460247381262\n",
            "Epoch [3/10], Loss: 0.33527252651958117\n",
            "Epoch [4/10], Loss: 0.3021107031010256\n",
            "Epoch [5/10], Loss: 0.2734286419147128\n",
            "Epoch [6/10], Loss: 0.24898273409706115\n",
            "Epoch [7/10], Loss: 0.22942847311412212\n",
            "Epoch [8/10], Loss: 0.20745671304894725\n",
            "Epoch [9/10], Loss: 0.19149900855569427\n",
            "Epoch [10/10], Loss: 0.17510826832134652\n",
            "Model saved to custom_cnn_lr0.001_bs64_conv3_fc1.pth\n",
            "Test Accuracy: 86.30246289696261%\n",
            "Training with learning rate: 0.001, batch size: 64, conv layers: 3, fc layers: 2\n",
            "Epoch [1/10], Loss: 1.0658852702098616\n",
            "Epoch [2/10], Loss: 0.58361973937641\n",
            "Epoch [3/10], Loss: 0.5050074685147319\n",
            "Epoch [4/10], Loss: 0.4653498779388564\n",
            "Epoch [5/10], Loss: 0.4332634753891506\n",
            "Epoch [6/10], Loss: 0.4084908420381665\n",
            "Epoch [7/10], Loss: 0.38942824045045094\n",
            "Epoch [8/10], Loss: 0.371563773849473\n",
            "Epoch [9/10], Loss: 0.3577850265549924\n",
            "Epoch [10/10], Loss: 0.3436787023768463\n",
            "Model saved to custom_cnn_lr0.001_bs64_conv3_fc2.pth\n",
            "Test Accuracy: 87.36102984201287%\n",
            "Learning Rate: 0.001, Batch Size: 64, Conv Layers: 2, FC Layers: 1, Test Accuracy: 84.48321719240386%\n",
            "Learning Rate: 0.001, Batch Size: 64, Conv Layers: 2, FC Layers: 2, Test Accuracy: 86.73333687962126%\n",
            "Learning Rate: 0.001, Batch Size: 64, Conv Layers: 3, FC Layers: 1, Test Accuracy: 86.30246289696261%\n",
            "Learning Rate: 0.001, Batch Size: 64, Conv Layers: 3, FC Layers: 2, Test Accuracy: 87.36102984201287%\n"
          ]
        }
      ],
      "source": [
        "import pandas as pd\n",
        "import torch\n",
        "from torch.utils.data import Dataset, DataLoader\n",
        "from torchvision import transforms\n",
        "import torch.nn as nn\n",
        "import torch.optim as optim\n",
        "import os\n",
        "\n",
        "class CharacterDataset(Dataset):\n",
        "    def __init__(self, csv_file, transform=None):\n",
        "        self.data = pd.read_csv(csv_file)\n",
        "        self.labels = self.data.iloc[:, 0].values\n",
        "        self.images = self.data.iloc[:, 1:].values.reshape(-1, 28, 28).astype('float32')\n",
        "        self.transform = transform\n",
        "\n",
        "    def __len__(self):\n",
        "        return len(self.data)\n",
        "\n",
        "    def __getitem__(self, idx):\n",
        "        image = self.images[idx]\n",
        "        label = self.labels[idx]\n",
        "        if self.transform:\n",
        "            image = self.transform(image)\n",
        "        return image, label\n",
        "\n",
        "\n",
        "# # Load the training dataset\n",
        "# csv_file = 'characters.csv'\n",
        "# mapping_file = 'mapping.txt'\n",
        "# mapping = load_mapping(mapping_file)\n",
        "# train_dataset = CharacterDataset(csv_file, transform=transform)\n",
        "\n",
        "# # Load the test dataset\n",
        "# test_csv_file = 'characters_test.csv'\n",
        "# test_dataset = CharacterDataset(test_csv_file, transform=transform)\n",
        "\n",
        "# Custom CNN class\n",
        "class CustomCNN(nn.Module):\n",
        "    def __init__(self, num_classes, num_conv_layers=3, num_fc_layers=2, dropout_rate=0.5):\n",
        "        super(CustomCNN, self).__init__()\n",
        "        self.conv_layers = nn.ModuleList()\n",
        "        self.fc_layers = nn.ModuleList()\n",
        "\n",
        "        # Add convolutional layers\n",
        "        in_channels = 1\n",
        "        out_channels = 32\n",
        "        for _ in range(num_conv_layers):\n",
        "            self.conv_layers.append(nn.Conv2d(in_channels, out_channels, kernel_size=3, stride=1, padding=1))\n",
        "            self.conv_layers.append(nn.ReLU())\n",
        "            self.conv_layers.append(nn.MaxPool2d(kernel_size=2, stride=2, padding=0))\n",
        "            in_channels = out_channels\n",
        "            out_channels *= 2\n",
        "\n",
        "        # Calculate the size of the flattened feature map\n",
        "        self.flattened_size = in_channels * (28 // (2 ** num_conv_layers)) ** 2\n",
        "\n",
        "        # Add fully connected layers\n",
        "        in_features = self.flattened_size\n",
        "        out_features = 256\n",
        "        for _ in range(num_fc_layers - 1):\n",
        "            self.fc_layers.append(nn.Linear(in_features, out_features))\n",
        "            self.fc_layers.append(nn.ReLU())\n",
        "            self.fc_layers.append(nn.Dropout(dropout_rate))\n",
        "            in_features = out_features\n",
        "\n",
        "        # Add the final fully connected layer\n",
        "        self.fc_layers.append(nn.Linear(in_features, num_classes))\n",
        "\n",
        "    def forward(self, x):\n",
        "        for layer in self.conv_layers:\n",
        "            x = layer(x)\n",
        "        x = x.view(-1, self.flattened_size)\n",
        "        for layer in self.fc_layers:\n",
        "            x = layer(x)\n",
        "        return x\n",
        "\n",
        "# Function to train the model\n",
        "def train_model(model, train_dataloader, learning_rate, num_epochs=10):\n",
        "    device = torch.device(\"cuda:0\" if torch.cuda.is_available() else \"cpu\")\n",
        "    model = model.to(device)\n",
        "    criterion = nn.CrossEntropyLoss()\n",
        "    optimizer = optim.Adam(model.parameters(), lr=learning_rate)\n",
        "\n",
        "    for epoch in range(num_epochs):\n",
        "        model.train()\n",
        "        running_loss = 0.0\n",
        "        for images, labels in train_dataloader:\n",
        "            images, labels = images.to(device), labels.to(device)\n",
        "            optimizer.zero_grad()\n",
        "            outputs = model(images)\n",
        "            loss = criterion(outputs, labels)\n",
        "            loss.backward()\n",
        "            optimizer.step()\n",
        "            running_loss += loss.item()\n",
        "        print(f'Epoch [{epoch+1}/{num_epochs}], Loss: {running_loss/len(train_dataloader)}')\n",
        "\n",
        "    return model\n",
        "\n",
        "# Function to save the model\n",
        "def save_model(model, learning_rate, batch_size, num_conv_layers, num_fc_layers):\n",
        "    model_path = f'custom_cnn_lr{learning_rate}_bs{batch_size}_conv{num_conv_layers}_fc{num_fc_layers}.pth'\n",
        "    torch.save(model.state_dict(), model_path)\n",
        "    print(f'Model saved to {model_path}')\n",
        "\n",
        "# Function to evaluate the model\n",
        "def evaluate_model(model, test_dataloader):\n",
        "    device = torch.device(\"cuda:0\" if torch.cuda.is_available() else \"cpu\")\n",
        "    model = model.to(device)\n",
        "    model.eval()\n",
        "    correct = 0\n",
        "    total = 0\n",
        "    with torch.no_grad():\n",
        "        for images, labels in test_dataloader:\n",
        "            images, labels = images.to(device), labels.to(device)\n",
        "            outputs = model(images)\n",
        "            _, predicted = torch.max(outputs.data, 1)\n",
        "            total += labels.size(0)\n",
        "            correct += (predicted == labels).sum().item()\n",
        "\n",
        "    accuracy = 100 * correct / total\n",
        "    print(f'Test Accuracy: {accuracy}%')\n",
        "    return accuracy\n",
        "\n",
        "# Experiment with different hyperparameters\n",
        "learning_rates = [0.001]\n",
        "batch_sizes = [64]\n",
        "num_conv_layers_list = [2, 3]\n",
        "num_fc_layers_list = [1, 2]\n",
        "\n",
        "results = []\n",
        "for lr in learning_rates:\n",
        "    for bs in batch_sizes:\n",
        "        for num_conv_layers in num_conv_layers_list:\n",
        "            for num_fc_layers in num_fc_layers_list:\n",
        "                print(f'Training with learning rate: {lr}, batch size: {bs}, conv layers: {num_conv_layers}, fc layers: {num_fc_layers}')\n",
        "\n",
        "                # Create DataLoader for training\n",
        "                train_dataloader = DataLoader(train_dataset, batch_size=bs, shuffle=True)\n",
        "                test_dataloader = DataLoader(test_dataset, batch_size=bs, shuffle=False)\n",
        "\n",
        "                # Create and train the model\n",
        "                model = CustomCNN(num_classes=len(mapping), num_conv_layers=num_conv_layers, num_fc_layers=num_fc_layers)\n",
        "                model = train_model(model, train_dataloader, lr)\n",
        "\n",
        "                # Save the model\n",
        "                save_model(model, lr, bs, num_conv_layers, num_fc_layers)\n",
        "\n",
        "                # Evaluate the model\n",
        "                accuracy = evaluate_model(model, test_dataloader)\n",
        "                results.append((lr, bs, num_conv_layers, num_fc_layers, accuracy))\n",
        "\n",
        "# Print results\n",
        "for lr, bs, num_conv_layers, num_fc_layers, acc in results:\n",
        "    print(f'Learning Rate: {lr}, Batch Size: {bs}, Conv Layers: {num_conv_layers}, FC Layers: {num_fc_layers}, Test Accuracy: {acc}%')"
      ]
    },
    {
      "cell_type": "code",
      "execution_count": null,
      "metadata": {
        "id": "8i5Y5KNDhcs0"
      },
      "outputs": [],
      "source": []
    },
    {
      "cell_type": "code",
      "execution_count": 8,
      "metadata": {
        "id": "bagFGdCUhcs1"
      },
      "outputs": [],
      "source": [
        "import pandas as pd\n",
        "import torch\n",
        "from torch.utils.data import Dataset, DataLoader\n",
        "from torch.nn.utils.rnn import pad_sequence\n",
        "import torch.nn as nn\n",
        "import torch.optim as optim\n",
        "import os\n",
        "from sklearn.preprocessing import LabelEncoder\n",
        "from collections import Counter\n",
        "import spacy\n"
      ]
    },
    {
      "cell_type": "code",
      "execution_count": 7,
      "metadata": {
        "id": "uwZF5QMmhcs1"
      },
      "outputs": [],
      "source": [
        "\n",
        "# Load the English tokenizer, POS tagger, parser, NER and word vectors\n",
        "nlp = spacy.load(\"en_core_web_sm\")\n"
      ]
    },
    {
      "cell_type": "code",
      "execution_count": 6,
      "metadata": {
        "id": "Em26dAb1hcs1"
      },
      "outputs": [],
      "source": [
        "\n",
        "\n",
        "# Custom Dataset class for text data\n",
        "class TextDataset(Dataset):\n",
        "    def __init__(self, tsv_file, transform=None):\n",
        "        self.data = pd.read_csv(tsv_file, delimiter='\\t')\n",
        "        self.sentences = self.data['sentence'].values\n",
        "        self.labels = LabelEncoder().fit_transform(self.data['label'].values)\n",
        "        self.transform = transform\n",
        "        self.vocab = self.build_vocab(self.sentences)\n",
        "        self.word2idx = {word: idx for idx, (word, _) in enumerate(self.vocab.items(), start=1)}\n",
        "        self.word2idx['<PAD>'] = 0\n",
        "\n",
        "    def build_vocab(self, sentences):\n",
        "        counter = Counter()\n",
        "        for sentence in sentences:\n",
        "            doc = nlp(sentence)\n",
        "            counter.update([token.text.lower() for token in doc if not token.is_stop])\n",
        "        return counter\n",
        "\n",
        "    def __len__(self):\n",
        "        return len(self.data)\n",
        "\n",
        "    def __getitem__(self, idx):\n",
        "        sentence = self.sentences[idx]\n",
        "        label = self.labels[idx]\n",
        "        doc = nlp(sentence)\n",
        "        tokens = [token.text.lower() for token in doc if not token.is_stop]\n",
        "        indices = [self.word2idx[token] for token in tokens]\n",
        "        return torch.tensor(indices), torch.tensor(label)\n",
        "\n",
        "# Function to collate data samples into batches\n",
        "def collate_fn(batch):\n",
        "    sentences, labels = zip(*batch)\n",
        "    sentences_padded = pad_sequence(sentences, batch_first=True, padding_value=0)\n",
        "    labels = torch.tensor(labels)\n",
        "    return sentences_padded, labels\n",
        "\n",
        "# Custom LSTM class\n",
        "class LSTMModel(nn.Module):\n",
        "    def __init__(self, vocab_size, embedding_dim, hidden_size, num_layers, num_classes):\n",
        "        super(LSTMModel, self).__init__()\n",
        "        self.embedding = nn.Embedding(vocab_size, embedding_dim, padding_idx=0)\n",
        "        self.lstm = nn.LSTM(embedding_dim, hidden_size, num_layers, batch_first=True)\n",
        "        self.fc = nn.Linear(hidden_size, num_classes)\n",
        "\n",
        "    def forward(self, x):\n",
        "        x = self.embedding(x)\n",
        "        h0 = torch.zeros(self.lstm.num_layers, x.size(0), self.lstm.hidden_size).to(x.device)\n",
        "        c0 = torch.zeros(self.lstm.num_layers, x.size(0), self.lstm.hidden_size).to(x.device)\n",
        "        out, _ = self.lstm(x, (h0, c0))\n",
        "        out = self.fc(out[:, -1, :])\n",
        "        return out\n",
        "\n",
        "# Function to train the model\n",
        "def train_model(model, train_dataloader, learning_rate, num_epochs=10):\n",
        "    device = torch.device(\"cuda:0\" if torch.cuda.is_available() else \"cpu\")\n",
        "    model = model.to(device)\n",
        "    criterion = nn.CrossEntropyLoss()\n",
        "    optimizer = optim.Adam(model.parameters(), lr=learning_rate)\n",
        "\n",
        "    for epoch in range(num_epochs):\n",
        "        model.train()\n",
        "        running_loss = 0.0\n",
        "        for sentences, labels in train_dataloader:\n",
        "            sentences, labels = sentences.to(device), labels.to(device)\n",
        "            optimizer.zero_grad()\n",
        "            outputs = model(sentences)\n",
        "            loss = criterion(outputs, labels)\n",
        "            loss.backward()\n",
        "            optimizer.step()\n",
        "            running_loss += loss.item()\n",
        "        print(f'Epoch [{epoch+1}/{num_epochs}], Loss: {running_loss/len(train_dataloader)}')\n",
        "\n",
        "    return model\n",
        "\n",
        "# Function to save the model\n",
        "def save_model(model, learning_rate, batch_size, hidden_size, num_layers):\n",
        "    model_path = f'lstm_model_lr{learning_rate}_bs{batch_size}_hs{hidden_size}_nl{num_layers}.pth'\n",
        "    torch.save(model.state_dict(), model_path)\n",
        "    print(f'Model saved to {model_path}')\n",
        "\n",
        "# Function to evaluate the model\n",
        "def evaluate_model(model, test_dataloader):\n",
        "    device = torch.device(\"cuda:0\" if torch.cuda.is_available() else \"cpu\")\n",
        "    model = model.to(device)\n",
        "    model.eval()\n",
        "    correct = 0\n",
        "    total = 0\n",
        "    with torch.no_grad():\n",
        "        for sentences, labels in test_dataloader:\n",
        "            sentences, labels = sentences.to(device), labels.to(device)\n",
        "            outputs = model(sentences)\n",
        "            _, predicted = torch.max(outputs.data, 1)\n",
        "            total += labels.size(0)\n",
        "            correct += (predicted == labels).sum().item()\n",
        "\n",
        "    accuracy = 100 * correct / total\n",
        "    print(f'Test Accuracy: {accuracy}%')\n",
        "    return accuracy\n"
      ]
    },
    {
      "cell_type": "code",
      "execution_count": 10,
      "metadata": {
        "id": "R1kQtJ_Fhcs4"
      },
      "outputs": [],
      "source": [
        "PATH='drive/MyDrive/Subjectivity'\n",
        "\n",
        "train_tsv_file = os.path.join(PATH, 'data', 'train_en.tsv')\n",
        "test_tsv_file = os.path.join(PATH, 'data', 'test_en_gold.tsv')\n",
        "\n",
        "train_dataset = TextDataset(train_tsv_file)\n",
        "test_dataset = TextDataset(test_tsv_file)\n",
        "\n"
      ]
    },
    {
      "cell_type": "code",
      "execution_count": 11,
      "metadata": {
        "colab": {
          "base_uri": "https://localhost:8080/"
        },
        "id": "IhdBPgnQhcs7",
        "outputId": "91b7d08d-08e3-42ac-8875-bc648a4239b4"
      },
      "outputs": [
        {
          "name": "stdout",
          "output_type": "stream",
          "text": [
            "Training with learning rate: 0.001, batch size: 32, hidden size: 128, num layers: 1\n",
            "Epoch [1/10], Loss: 0.6800953470743619\n",
            "Epoch [2/10], Loss: 0.6550666162600884\n",
            "Epoch [3/10], Loss: 0.6463322845789102\n",
            "Epoch [4/10], Loss: 0.643368682036033\n",
            "Epoch [5/10], Loss: 0.6354010242682236\n",
            "Epoch [6/10], Loss: 0.6335464280385238\n",
            "Epoch [7/10], Loss: 0.619149930202044\n",
            "Epoch [8/10], Loss: 0.5887337865737768\n",
            "Epoch [9/10], Loss: 0.6263198153330729\n",
            "Epoch [10/10], Loss: 0.5670859607366415\n",
            "Model saved to lstm_model_lr0.001_bs32_hs128_nl1.pth\n",
            "Test Accuracy: 48.97119341563786%\n",
            "Training with learning rate: 0.001, batch size: 32, hidden size: 128, num layers: 2\n",
            "Epoch [1/10], Loss: 0.6610184495265667\n",
            "Epoch [2/10], Loss: 0.6545133705322559\n",
            "Epoch [3/10], Loss: 0.650562754044166\n",
            "Epoch [4/10], Loss: 0.6412010720142951\n",
            "Epoch [5/10], Loss: 0.6400659588667063\n",
            "Epoch [6/10], Loss: 0.6317349362831849\n",
            "Epoch [7/10], Loss: 0.6184805264839759\n",
            "Epoch [8/10], Loss: 0.6120812159318191\n",
            "Epoch [9/10], Loss: 0.5491719498084142\n",
            "Epoch [10/10], Loss: 0.4665390310379175\n",
            "Model saved to lstm_model_lr0.001_bs32_hs128_nl2.pth\n",
            "Test Accuracy: 51.851851851851855%\n",
            "Training with learning rate: 0.001, batch size: 32, hidden size: 256, num layers: 1\n",
            "Epoch [1/10], Loss: 0.6614228968436902\n",
            "Epoch [2/10], Loss: 0.6574671039214501\n",
            "Epoch [3/10], Loss: 0.6440329322448144\n",
            "Epoch [4/10], Loss: 0.6408654038722699\n",
            "Epoch [5/10], Loss: 0.63946533203125\n",
            "Epoch [6/10], Loss: 0.637402009505492\n",
            "Epoch [7/10], Loss: 0.6149062319443777\n",
            "Epoch [8/10], Loss: 0.5951965989974829\n",
            "Epoch [9/10], Loss: 0.6150170266628265\n",
            "Epoch [10/10], Loss: 0.6318906453939584\n",
            "Model saved to lstm_model_lr0.001_bs32_hs256_nl1.pth\n",
            "Test Accuracy: 46.91358024691358%\n",
            "Training with learning rate: 0.001, batch size: 32, hidden size: 256, num layers: 2\n",
            "Epoch [1/10], Loss: 0.6573676879589374\n",
            "Epoch [2/10], Loss: 0.6534350835360013\n",
            "Epoch [3/10], Loss: 0.6496704106147473\n",
            "Epoch [4/10], Loss: 0.6343010320113256\n",
            "Epoch [5/10], Loss: 0.648012651846959\n",
            "Epoch [6/10], Loss: 0.6083265290810511\n",
            "Epoch [7/10], Loss: 0.6001945115052737\n",
            "Epoch [8/10], Loss: 0.5288963902455109\n",
            "Epoch [9/10], Loss: 0.46450619055674625\n",
            "Epoch [10/10], Loss: 0.43683855636761737\n",
            "Model saved to lstm_model_lr0.001_bs32_hs256_nl2.pth\n",
            "Test Accuracy: 44.8559670781893%\n",
            "Training with learning rate: 0.001, batch size: 64, hidden size: 128, num layers: 1\n",
            "Epoch [1/10], Loss: 0.6687105022943937\n",
            "Epoch [2/10], Loss: 0.6532975664505591\n",
            "Epoch [3/10], Loss: 0.6496292627774752\n",
            "Epoch [4/10], Loss: 0.6509555257283725\n",
            "Epoch [5/10], Loss: 0.6460669865975013\n",
            "Epoch [6/10], Loss: 0.6445033458562998\n",
            "Epoch [7/10], Loss: 0.6421458812860342\n",
            "Epoch [8/10], Loss: 0.6436641032879169\n",
            "Epoch [9/10], Loss: 0.6387266104037945\n",
            "Epoch [10/10], Loss: 0.6355806497427133\n",
            "Model saved to lstm_model_lr0.001_bs64_hs128_nl1.pth\n",
            "Test Accuracy: 48.97119341563786%\n",
            "Training with learning rate: 0.001, batch size: 64, hidden size: 128, num layers: 2\n",
            "Epoch [1/10], Loss: 0.668433313186352\n",
            "Epoch [2/10], Loss: 0.6536988707689139\n",
            "Epoch [3/10], Loss: 0.6504546587283795\n",
            "Epoch [4/10], Loss: 0.6507724615243765\n",
            "Epoch [5/10], Loss: 0.6484438685270456\n",
            "Epoch [6/10], Loss: 0.6475452918272752\n",
            "Epoch [7/10], Loss: 0.6404337241099431\n",
            "Epoch [8/10], Loss: 0.6356814274421105\n",
            "Epoch [9/10], Loss: 0.6104410015619718\n",
            "Epoch [10/10], Loss: 0.6272622667826139\n",
            "Model saved to lstm_model_lr0.001_bs64_hs128_nl2.pth\n",
            "Test Accuracy: 48.559670781893004%\n",
            "Training with learning rate: 0.001, batch size: 64, hidden size: 256, num layers: 1\n",
            "Epoch [1/10], Loss: 0.6620149612426758\n",
            "Epoch [2/10], Loss: 0.6531440844902625\n",
            "Epoch [3/10], Loss: 0.647589637682988\n",
            "Epoch [4/10], Loss: 0.6460073040081904\n",
            "Epoch [5/10], Loss: 0.6473632959219126\n",
            "Epoch [6/10], Loss: 0.6435961494079003\n",
            "Epoch [7/10], Loss: 0.670212814441094\n",
            "Epoch [8/10], Loss: 0.6467543152662424\n",
            "Epoch [9/10], Loss: 0.6458618549200205\n",
            "Epoch [10/10], Loss: 0.6448017083681546\n",
            "Model saved to lstm_model_lr0.001_bs64_hs256_nl1.pth\n",
            "Test Accuracy: 48.148148148148145%\n",
            "Training with learning rate: 0.001, batch size: 64, hidden size: 256, num layers: 2\n",
            "Epoch [1/10], Loss: 0.6710864534744849\n",
            "Epoch [2/10], Loss: 0.6654971058552082\n",
            "Epoch [3/10], Loss: 0.654253519498385\n",
            "Epoch [4/10], Loss: 0.6499758958816528\n",
            "Epoch [5/10], Loss: 0.6459575983194205\n",
            "Epoch [6/10], Loss: 0.6416944632163415\n",
            "Epoch [7/10], Loss: 0.647895308641287\n",
            "Epoch [8/10], Loss: 0.6370492485853342\n",
            "Epoch [9/10], Loss: 0.6412392854690552\n",
            "Epoch [10/10], Loss: 0.6321953397530776\n",
            "Model saved to lstm_model_lr0.001_bs64_hs256_nl2.pth\n",
            "Test Accuracy: 49.794238683127574%\n",
            "Training with learning rate: 0.0001, batch size: 32, hidden size: 128, num layers: 1\n",
            "Epoch [1/10], Loss: 0.7025004739944751\n",
            "Epoch [2/10], Loss: 0.6899769283257998\n",
            "Epoch [3/10], Loss: 0.6775296788949233\n",
            "Epoch [4/10], Loss: 0.6629892060389886\n",
            "Epoch [5/10], Loss: 0.6518301413609431\n",
            "Epoch [6/10], Loss: 0.6512547249977405\n",
            "Epoch [7/10], Loss: 0.6495938071837792\n",
            "Epoch [8/10], Loss: 0.6482369693425986\n",
            "Epoch [9/10], Loss: 0.6476298570632935\n",
            "Epoch [10/10], Loss: 0.646329572567573\n",
            "Model saved to lstm_model_lr0.0001_bs32_hs128_nl1.pth\n",
            "Test Accuracy: 47.73662551440329%\n",
            "Training with learning rate: 0.0001, batch size: 32, hidden size: 128, num layers: 2\n",
            "Epoch [1/10], Loss: 0.6978434255489936\n",
            "Epoch [2/10], Loss: 0.6785655090442071\n",
            "Epoch [3/10], Loss: 0.6582054931383866\n",
            "Epoch [4/10], Loss: 0.6524437757638785\n",
            "Epoch [5/10], Loss: 0.6517217250970694\n",
            "Epoch [6/10], Loss: 0.6521211541616\n",
            "Epoch [7/10], Loss: 0.6501390177469987\n",
            "Epoch [8/10], Loss: 0.6497422204567835\n",
            "Epoch [9/10], Loss: 0.6495234232682449\n",
            "Epoch [10/10], Loss: 0.6485153207412133\n",
            "Model saved to lstm_model_lr0.0001_bs32_hs128_nl2.pth\n",
            "Test Accuracy: 47.73662551440329%\n",
            "Training with learning rate: 0.0001, batch size: 32, hidden size: 256, num layers: 1\n",
            "Epoch [1/10], Loss: 0.6951722433933845\n",
            "Epoch [2/10], Loss: 0.6750219716475561\n",
            "Epoch [3/10], Loss: 0.654958229798537\n",
            "Epoch [4/10], Loss: 0.6515679015563085\n",
            "Epoch [5/10], Loss: 0.6480488341588241\n",
            "Epoch [6/10], Loss: 0.6489361387032729\n",
            "Epoch [7/10], Loss: 0.6473535597324371\n",
            "Epoch [8/10], Loss: 0.6467800025756543\n",
            "Epoch [9/10], Loss: 0.644234680212461\n",
            "Epoch [10/10], Loss: 0.6452128497453836\n",
            "Model saved to lstm_model_lr0.0001_bs32_hs256_nl1.pth\n",
            "Test Accuracy: 47.73662551440329%\n",
            "Training with learning rate: 0.0001, batch size: 32, hidden size: 256, num layers: 2\n",
            "Epoch [1/10], Loss: 0.6847004638268397\n",
            "Epoch [2/10], Loss: 0.653312277335387\n",
            "Epoch [3/10], Loss: 0.6528431796110593\n",
            "Epoch [4/10], Loss: 0.6530787692620204\n",
            "Epoch [5/10], Loss: 0.6510044657267057\n",
            "Epoch [6/10], Loss: 0.6496716187550471\n",
            "Epoch [7/10], Loss: 0.6500827761796805\n",
            "Epoch [8/10], Loss: 0.6476147793806516\n",
            "Epoch [9/10], Loss: 0.6455796200495499\n",
            "Epoch [10/10], Loss: 0.6427337343876178\n",
            "Model saved to lstm_model_lr0.0001_bs32_hs256_nl2.pth\n",
            "Test Accuracy: 47.73662551440329%\n",
            "Training with learning rate: 0.0001, batch size: 64, hidden size: 128, num layers: 1\n",
            "Epoch [1/10], Loss: 0.6975841430517343\n",
            "Epoch [2/10], Loss: 0.6904022647784307\n",
            "Epoch [3/10], Loss: 0.6837043578808124\n",
            "Epoch [4/10], Loss: 0.6764198679190415\n",
            "Epoch [5/10], Loss: 0.6704304493390597\n",
            "Epoch [6/10], Loss: 0.6620957759710459\n",
            "Epoch [7/10], Loss: 0.6566755267289969\n",
            "Epoch [8/10], Loss: 0.6517707659648015\n",
            "Epoch [9/10], Loss: 0.6515067219734192\n",
            "Epoch [10/10], Loss: 0.6512425266779386\n",
            "Model saved to lstm_model_lr0.0001_bs64_hs128_nl1.pth\n",
            "Test Accuracy: 47.73662551440329%\n",
            "Training with learning rate: 0.0001, batch size: 64, hidden size: 128, num layers: 2\n",
            "Epoch [1/10], Loss: 0.7015585028208219\n",
            "Epoch [2/10], Loss: 0.6894062344844525\n",
            "Epoch [3/10], Loss: 0.6784810011203473\n",
            "Epoch [4/10], Loss: 0.6668525429872366\n",
            "Epoch [5/10], Loss: 0.657518730713771\n",
            "Epoch [6/10], Loss: 0.6515755745080801\n",
            "Epoch [7/10], Loss: 0.6516473247454717\n",
            "Epoch [8/10], Loss: 0.6515207703296955\n",
            "Epoch [9/10], Loss: 0.6507965968205378\n",
            "Epoch [10/10], Loss: 0.6514224089108981\n",
            "Model saved to lstm_model_lr0.0001_bs64_hs128_nl2.pth\n",
            "Test Accuracy: 47.73662551440329%\n",
            "Training with learning rate: 0.0001, batch size: 64, hidden size: 256, num layers: 1\n",
            "Epoch [1/10], Loss: 0.6781477974011347\n",
            "Epoch [2/10], Loss: 0.6712159606126639\n",
            "Epoch [3/10], Loss: 0.6652184495559106\n",
            "Epoch [4/10], Loss: 0.6590602076970614\n",
            "Epoch [5/10], Loss: 0.6529555045641385\n",
            "Epoch [6/10], Loss: 0.6523698430794936\n",
            "Epoch [7/10], Loss: 0.6511850998951838\n",
            "Epoch [8/10], Loss: 0.6501795053482056\n",
            "Epoch [9/10], Loss: 0.6501948099869949\n",
            "Epoch [10/10], Loss: 0.6493484194462116\n",
            "Model saved to lstm_model_lr0.0001_bs64_hs256_nl1.pth\n",
            "Test Accuracy: 47.73662551440329%\n",
            "Training with learning rate: 0.0001, batch size: 64, hidden size: 256, num layers: 2\n",
            "Epoch [1/10], Loss: 0.6901139204318707\n",
            "Epoch [2/10], Loss: 0.6739160922857431\n",
            "Epoch [3/10], Loss: 0.6572277729327862\n",
            "Epoch [4/10], Loss: 0.6526935192254874\n",
            "Epoch [5/10], Loss: 0.6514252194991479\n",
            "Epoch [6/10], Loss: 0.6509713347141559\n",
            "Epoch [7/10], Loss: 0.6499351446445172\n",
            "Epoch [8/10], Loss: 0.650972856925084\n",
            "Epoch [9/10], Loss: 0.6517011248148404\n",
            "Epoch [10/10], Loss: 0.650121441254249\n",
            "Model saved to lstm_model_lr0.0001_bs64_hs256_nl2.pth\n",
            "Test Accuracy: 47.73662551440329%\n",
            "Learning Rate: 0.001, Batch Size: 32, Hidden Size: 128, Num Layers: 1, Test Accuracy: 48.97119341563786%\n",
            "Learning Rate: 0.001, Batch Size: 32, Hidden Size: 128, Num Layers: 2, Test Accuracy: 51.851851851851855%\n",
            "Learning Rate: 0.001, Batch Size: 32, Hidden Size: 256, Num Layers: 1, Test Accuracy: 46.91358024691358%\n",
            "Learning Rate: 0.001, Batch Size: 32, Hidden Size: 256, Num Layers: 2, Test Accuracy: 44.8559670781893%\n",
            "Learning Rate: 0.001, Batch Size: 64, Hidden Size: 128, Num Layers: 1, Test Accuracy: 48.97119341563786%\n",
            "Learning Rate: 0.001, Batch Size: 64, Hidden Size: 128, Num Layers: 2, Test Accuracy: 48.559670781893004%\n",
            "Learning Rate: 0.001, Batch Size: 64, Hidden Size: 256, Num Layers: 1, Test Accuracy: 48.148148148148145%\n",
            "Learning Rate: 0.001, Batch Size: 64, Hidden Size: 256, Num Layers: 2, Test Accuracy: 49.794238683127574%\n",
            "Learning Rate: 0.0001, Batch Size: 32, Hidden Size: 128, Num Layers: 1, Test Accuracy: 47.73662551440329%\n",
            "Learning Rate: 0.0001, Batch Size: 32, Hidden Size: 128, Num Layers: 2, Test Accuracy: 47.73662551440329%\n",
            "Learning Rate: 0.0001, Batch Size: 32, Hidden Size: 256, Num Layers: 1, Test Accuracy: 47.73662551440329%\n",
            "Learning Rate: 0.0001, Batch Size: 32, Hidden Size: 256, Num Layers: 2, Test Accuracy: 47.73662551440329%\n",
            "Learning Rate: 0.0001, Batch Size: 64, Hidden Size: 128, Num Layers: 1, Test Accuracy: 47.73662551440329%\n",
            "Learning Rate: 0.0001, Batch Size: 64, Hidden Size: 128, Num Layers: 2, Test Accuracy: 47.73662551440329%\n",
            "Learning Rate: 0.0001, Batch Size: 64, Hidden Size: 256, Num Layers: 1, Test Accuracy: 47.73662551440329%\n",
            "Learning Rate: 0.0001, Batch Size: 64, Hidden Size: 256, Num Layers: 2, Test Accuracy: 47.73662551440329%\n"
          ]
        }
      ],
      "source": [
        "\n",
        "\n",
        "# Experiment with different hyperparameters\n",
        "learning_rates = [0.001, 0.0001]\n",
        "batch_sizes = [32, 64]\n",
        "hidden_sizes = [128, 256]\n",
        "num_layers_list = [1, 2]\n",
        "\n",
        "results = []\n",
        "for lr in learning_rates:\n",
        "    for bs in batch_sizes:\n",
        "        for hs in hidden_sizes:\n",
        "            for nl in num_layers_list:\n",
        "                print(f'Training with learning rate: {lr}, batch size: {bs}, hidden size: {hs}, num layers: {nl}')\n",
        "\n",
        "                # Create DataLoader for training\n",
        "                train_dataloader = DataLoader(train_dataset, batch_size=bs, shuffle=True, collate_fn=collate_fn)\n",
        "                test_dataloader = DataLoader(test_dataset, batch_size=bs, shuffle=False, collate_fn=collate_fn)\n",
        "\n",
        "                # Create and train the model\n",
        "                model = LSTMModel(vocab_size=len(train_dataset.word2idx), embedding_dim=100, hidden_size=hs, num_layers=nl, num_classes=len(set(train_dataset.labels)))\n",
        "                model = train_model(model, train_dataloader, lr)\n",
        "\n",
        "                # Save the model\n",
        "                save_model(model, lr, bs, hs, nl)\n",
        "\n",
        "                # Evaluate the model\n",
        "                accuracy = evaluate_model(model, test_dataloader)\n",
        "                results.append((lr, bs, hs, nl, accuracy))\n",
        "\n",
        "# Print results\n",
        "for lr, bs, hs, nl, acc in results:\n",
        "    print(f'Learning Rate: {lr}, Batch Size: {bs}, Hidden Size: {hs}, Num Layers: {nl}, Test Accuracy: {acc}%')"
      ]
    },
    {
      "cell_type": "code",
      "execution_count": null,
      "metadata": {
        "id": "WjLrruTuhcs8"
      },
      "outputs": [],
      "source": [
        "from transformers import BertTokenizer, BertForSequenceClassification, AdamW"
      ]
    },
    {
      "cell_type": "code",
      "execution_count": null,
      "metadata": {},
      "outputs": [],
      "source": [
        "class TextDataset(Dataset):\n",
        "    def __init__(self, tsv_file, tokenizer, max_length):\n",
        "        self.data = pd.read_csv(tsv_file, delimiter='\\t')\n",
        "        self.sentences = self.data['sentence'].values\n",
        "        self.labels = LabelEncoder().fit_transform(self.data['label'].values)\n",
        "        self.tokenizer = tokenizer\n",
        "        self.max_length = max_length\n",
        "\n",
        "    def __len__(self):\n",
        "        return len(self.data)\n",
        "\n",
        "    def __getitem__(self, idx):\n",
        "        sentence = self.sentences[idx]\n",
        "        label = self.labels[idx]\n",
        "        encoding = self.tokenizer.encode_plus(\n",
        "            sentence,\n",
        "            add_special_tokens=True,\n",
        "            max_length=self.max_length,\n",
        "            return_token_type_ids=False,\n",
        "            padding='max_length',\n",
        "            truncation=True,\n",
        "            return_attention_mask=True,\n",
        "            return_tensors='pt',\n",
        "        )\n",
        "        return {\n",
        "            'input_ids': encoding['input_ids'].flatten(),\n",
        "            'attention_mask': encoding['attention_mask'].flatten(),\n",
        "            'label': torch.tensor(label, dtype=torch.long)\n",
        "        }\n",
        "\n",
        "def create_data_loader(dataset, batch_size):\n",
        "    return DataLoader(dataset, batch_size=batch_size, shuffle=True)\n",
        "\n",
        "class BERTModel(nn.Module):\n",
        "    def __init__(self, num_classes):\n",
        "        super(BERTModel, self).__init__()\n",
        "        self.bert = BertForSequenceClassification.from_pretrained('bert-base-uncased', num_labels=num_classes)\n",
        "\n",
        "    def forward(self, input_ids, attention_mask):\n",
        "        return self.bert(input_ids=input_ids, attention_mask=attention_mask)\n",
        "\n",
        "def train_model(model, train_dataloader, learning_rate, num_epochs=3):\n",
        "    device = torch.device(\"cuda:0\" if torch.cuda.is_available() else \"cpu\")\n",
        "    model = model.to(device)\n",
        "    criterion = nn.CrossEntropyLoss()\n",
        "    optimizer = AdamW(model.parameters(), lr=learning_rate)\n",
        "\n",
        "    for epoch in range(num_epochs):\n",
        "        model.train()\n",
        "        running_loss = 0.0\n",
        "        for batch in train_dataloader:\n",
        "            input_ids = batch['input_ids'].to(device)\n",
        "            attention_mask = batch['attention_mask'].to(device)\n",
        "            labels = batch['label'].to(device)\n",
        "            optimizer.zero_grad()\n",
        "            outputs = model(input_ids=input_ids, attention_mask=attention_mask)\n",
        "            loss = criterion(outputs.logits, labels)\n",
        "            loss.backward()\n",
        "            optimizer.step()\n",
        "            running_loss += loss.item()\n",
        "        print(f'Epoch [{epoch+1}/{num_epochs}], Loss: {running_loss/len(train_dataloader)}')\n",
        "\n",
        "    return model\n",
        "\n",
        "\n",
        "def save_model(model, learning_rate, batch_size):\n",
        "    model_path = f'bert_model_lr{learning_rate}_bs{batch_size}.pth'\n",
        "    torch.save(model.state_dict(), model_path)\n",
        "    print(f'Model saved to {model_path}')\n",
        "\n",
        "\n",
        "def evaluate_model(model, test_dataloader):\n",
        "    device = torch.device(\"cuda:0\" if torch.cuda.is_available() else \"cpu\")\n",
        "    model = model.to(device)\n",
        "    model.eval()\n",
        "    correct = 0\n",
        "    total = 0\n",
        "    with torch.no_grad():\n",
        "        for batch in test_dataloader:\n",
        "            input_ids = batch['input_ids'].to(device)\n",
        "            attention_mask = batch['attention_mask'].to(device)\n",
        "            labels = batch['label'].to(device)\n",
        "            outputs = model(input_ids=input_ids, attention_mask=attention_mask)\n",
        "            _, predicted = torch.max(outputs.logits, 1)\n",
        "            total += labels.size(0)\n",
        "            correct += (predicted == labels).sum().item()\n",
        "\n",
        "    accuracy = 100 * correct / total\n",
        "    print(f'Test Accuracy: {accuracy}%')\n",
        "    return accuracy"
      ]
    },
    {
      "cell_type": "code",
      "execution_count": null,
      "metadata": {},
      "outputs": [],
      "source": [
        "tokenizer = BertTokenizer.from_pretrained('bert-base-uncased')\n",
        "\n",
        "max_length = 128\n",
        "train_dataset = TextDataset(train_tsv_file, tokenizer, max_length)\n",
        "test_dataset = TextDataset(test_tsv_file, tokenizer, max_length)"
      ]
    },
    {
      "cell_type": "code",
      "execution_count": null,
      "metadata": {},
      "outputs": [],
      "source": [
        "learning_rates = [2e-5, 3e-5]\n",
        "batch_sizes = [16, 32]\n",
        "\n",
        "results = []\n",
        "for lr in learning_rates:\n",
        "    for bs in batch_sizes:\n",
        "        print(f'Training with learning rate: {lr}, batch size: {bs}')\n",
        "        \n",
        "        # Create DataLoader for training\n",
        "        train_dataloader = create_data_loader(train_dataset, bs)\n",
        "        test_dataloader = create_data_loader(test_dataset, bs)\n",
        "        \n",
        "        # Create and train the model\n",
        "        model = BERTModel(num_classes=len(set(train_dataset.labels)))\n",
        "        model = train_model(model, train_dataloader, lr)\n",
        "        \n",
        "        # Save the model\n",
        "        save_model(model, lr, bs)\n",
        "        \n",
        "        # Evaluate the model\n",
        "        accuracy = evaluate_model(model, test_dataloader)\n",
        "        results.append((lr, bs, accuracy))\n",
        "\n",
        "# Print results\n",
        "for lr, bs, acc in results:\n",
        "    print(f'Learning Rate: {lr}, Batch Size: {bs}, Test Accuracy: {acc}%')"
      ]
    }
  ],
  "metadata": {
    "colab": {
      "provenance": []
    },
    "kernelspec": {
      "display_name": "Python 3",
      "name": "python3"
    },
    "language_info": {
      "codemirror_mode": {
        "name": "ipython",
        "version": 3
      },
      "file_extension": ".py",
      "mimetype": "text/x-python",
      "name": "python",
      "nbconvert_exporter": "python",
      "pygments_lexer": "ipython3",
      "version": "3.12.1"
    }
  },
  "nbformat": 4,
  "nbformat_minor": 0
}
