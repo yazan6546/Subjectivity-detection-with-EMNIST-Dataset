{
  "cells": [
    {
      "cell_type": "code",
      "execution_count": 1,
      "metadata": {
        "id": "vf6omna0i_tZ"
      },
      "outputs": [],
      "source": [
        "import pandas as pd\n",
        "import torch\n",
        "from torch.utils.data import Dataset, DataLoader\n",
        "from torchvision import transforms, models\n",
        "import torch.nn as nn\n",
        "import torch.optim as optim\n",
        "import matplotlib.pyplot as plt"
      ]
    },
    {
      "cell_type": "code",
      "execution_count": 2,
      "metadata": {
        "colab": {
          "base_uri": "https://localhost:8080/"
        },
        "id": "3PKvGc21t5mG",
        "outputId": "f2aaf8dc-ab7c-48a5-bb66-5892c0eb3e75"
      },
      "outputs": [
        {
          "name": "stdout",
          "output_type": "stream",
          "text": [
            "Mounted at /content/drive\n"
          ]
        }
      ],
      "source": [
        "from google.colab import drive\n",
        "drive.mount('/content/drive')"
      ]
    },
    {
      "cell_type": "code",
      "execution_count": 3,
      "metadata": {
        "id": "byRRFO16kvRF"
      },
      "outputs": [],
      "source": [
        "# Load the mapping from mapping.txt\n",
        "def load_mapping(mapping_file):\n",
        "    mapping = {}\n",
        "    with open(mapping_file, 'r') as f:\n",
        "        for line in f:\n",
        "            key, value = line.strip().split()\n",
        "            mapping[int(key)] = chr(int(value))\n",
        "    return mapping"
      ]
    },
    {
      "cell_type": "code",
      "execution_count": null,
      "metadata": {
        "id": "FPWYS748oK8S"
      },
      "outputs": [],
      "source": []
    },
    {
      "cell_type": "code",
      "execution_count": null,
      "metadata": {
        "colab": {
          "base_uri": "https://localhost:8080/",
          "height": 235
        },
        "id": "kSYZtm6rj1Vx",
        "outputId": "5896d782-b3bf-4d6c-a56a-2a835d43268c"
      },
      "outputs": [
        {
          "data": {
            "image/png": "[encoded data removed]",
            "text/plain": [
              "<Figure size 1500x300 with 5 Axes>"
            ]
          },
          "metadata": {},
          "output_type": "display_data"
        }
      ],
      "source": [
        "import matplotlib.pyplot as plt\n",
        "# Display the first few images along with their ASCII labels\n",
        "def show_images(dataset, mapping, num_images=5):\n",
        "    fig, axes = plt.subplots(1, num_images, figsize=(15, 3))\n",
        "    for i in range(num_images):\n",
        "        image, label = dataset[i]\n",
        "        image = image.numpy().squeeze()\n",
        "        ascii_label = mapping[label]\n",
        "        axes[i].imshow(image, cmap='gray')\n",
        "        axes[i].set_title(f'Label: {ascii_label}')\n",
        "        axes[i].axis('off')\n",
        "    plt.show()\n",
        "\n",
        "show_images(dataset, mapping=mapping, num_images=5)"
      ]
    },
    {
      "cell_type": "code",
      "execution_count": null,
      "metadata": {
        "id": "q7qo0opU1uMp"
      },
      "outputs": [],
      "source": [
        "\n"
      ]
    },
    {
      "cell_type": "code",
      "execution_count": null,
      "metadata": {
        "id": "efXx47iDy2PH"
      },
      "outputs": [],
      "source": []
    },
    {
      "cell_type": "code",
      "execution_count": null,
      "metadata": {
        "id": "7j8cuJB-2n59"
      },
      "outputs": [],
      "source": [
        "import os\n",
        "\n",
        "class CharacterDataset(Dataset):\n",
        "    def __init__(self, csv_file, transform=None):\n",
        "        self.data = pd.read_csv(csv_file)\n",
        "        self.labels = self.data.iloc[:, 0].values\n",
        "        self.images = self.data.iloc[:, 1:].values.reshape(-1, 28, 28).astype('float32')\n",
        "        self.transform = transform\n",
        "\n",
        "    def __len__(self):\n",
        "        return len(self.data)\n",
        "\n",
        "    def __getitem__(self, idx):\n",
        "        image = self.images[idx]\n",
        "        label = self.labels[idx]\n",
        "        if self.transform:\n",
        "            image = self.transform(image)\n",
        "        return image, label\n",
        "\n",
        "# Define transformations\n",
        "transform = transforms.Compose([\n",
        "    transforms.ToTensor(),\n",
        "    transforms.Normalize((0.5,), (0.5,))\n",
        "])"
      ]
    },
    {
      "cell_type": "code",
      "execution_count": null,
      "metadata": {
        "colab": {
          "base_uri": "https://localhost:8080/",
          "height": 182
        },
        "id": "Wk9IcGW38VLu",
        "outputId": "f5a253db-73a6-4e1b-f43f-2c3d06c5792f"
      },
      "outputs": [
        {
          "ename": "NameError",
          "evalue": "name 'batch_size' is not defined",
          "output_type": "error",
          "traceback": [
            "\u001b[0;31m---------------------------------------------------------------------------\u001b[0m",
            "\u001b[0;31mNameError\u001b[0m                                 Traceback (most recent call last)",
            "\u001b[0;32m<ipython-input-4-c4c2d792be20>\u001b[0m in \u001b[0;36m<cell line: 7>\u001b[0;34m()\u001b[0m\n\u001b[1;32m      5\u001b[0m \u001b[0;34m\u001b[0m\u001b[0m\n\u001b[1;32m      6\u001b[0m \u001b[0;31m# Create DataLoader for testing\u001b[0m\u001b[0;34m\u001b[0m\u001b[0;34m\u001b[0m\u001b[0m\n\u001b[0;32m----> 7\u001b[0;31m \u001b[0mtest_dataloader\u001b[0m \u001b[0;34m=\u001b[0m \u001b[0mDataLoader\u001b[0m\u001b[0;34m(\u001b[0m\u001b[0mtest_dataset\u001b[0m\u001b[0;34m,\u001b[0m \u001b[0mbatch_size\u001b[0m\u001b[0;34m=\u001b[0m\u001b[0mbatch_size\u001b[0m\u001b[0;34m,\u001b[0m \u001b[0mshuffle\u001b[0m\u001b[0;34m=\u001b[0m\u001b[0;32mFalse\u001b[0m\u001b[0;34m)\u001b[0m\u001b[0;34m\u001b[0m\u001b[0;34m\u001b[0m\u001b[0m\n\u001b[0m",
            "\u001b[0;31mNameError\u001b[0m: name 'batch_size' is not defined"
          ]
        }
      ],
      "source": [
        "\n",
        "\n",
        "PATH='drive/MyDrive/Subjectivity'\n",
        "\n",
        "test_csv_file = os.path.join(PATH, 'data', 'characters-test.csv')\n",
        "test_dataset = CharacterDataset(test_csv_file, transform=transform)\n",
        "\n",
        "# Create DataLoader for testing\n",
        "test_dataloader = DataLoader(test_dataset, batch_size=batch_size, shuffle=False)\n"
      ]
    },
    {
      "cell_type": "code",
      "execution_count": null,
      "metadata": {
        "colab": {
          "base_uri": "https://localhost:8080/"
        },
        "id": "X9kES4iX8Nt7",
        "outputId": "77bbd806-4b4b-411c-a783-09fdf4cca769"
      },
      "outputs": [
        {
          "name": "stdout",
          "output_type": "stream",
          "text": [
            "Test Accuracy: 75.4029469652641%\n"
          ]
        }
      ],
      "source": [
        "\n",
        "# # Evaluate the model on the test dataset\n",
        "# model.eval()\n",
        "# correct = 0\n",
        "# total = 0\n",
        "# with torch.no_grad():\n",
        "#     for images, labels in test_dataloader:\n",
        "#         images, labels = images.to(device), labels.to(device)\n",
        "#         outputs = model(images)\n",
        "#         _, predicted = torch.max(outputs.data, 1)\n",
        "#         total += labels.size(0)\n",
        "#         correct += (predicted == labels).sum().item()\n",
        "\n",
        "# print(f'Test Accuracy: {100 * correct / total}%')"
      ]
    },
    {
      "cell_type": "code",
      "execution_count": null,
      "metadata": {
        "colab": {
          "base_uri": "https://localhost:8080/"
        },
        "id": "kw3dzbgdxWFI",
        "outputId": "e300581f-34bd-4446-f463-fa4158ad2d87"
      },
      "outputs": [
        {
          "data": {
            "text/plain": [
              "device(type='cpu')"
            ]
          },
          "execution_count": 16,
          "metadata": {},
          "output_type": "execute_result"
        }
      ],
      "source": [
        "device"
      ]
    },
    {
      "cell_type": "code",
      "execution_count": 4,
      "metadata": {
        "id": "ksCCAihC26gy"
      },
      "outputs": [],
      "source": [
        "\n",
        "import os\n",
        "\n",
        "class CharacterDataset(Dataset):\n",
        "    def __init__(self, csv_file, transform=None):\n",
        "        self.data = pd.read_csv(csv_file)\n",
        "        self.labels = self.data.iloc[:, 0].values\n",
        "        self.images = self.data.iloc[:, 1:].values.reshape(-1, 28, 28).astype('float32')\n",
        "        self.transform = transform\n",
        "\n",
        "    def __len__(self):\n",
        "        return len(self.data)\n",
        "\n",
        "    def __getitem__(self, idx):\n",
        "        image = self.images[idx]\n",
        "        label = self.labels[idx]\n",
        "        if self.transform:\n",
        "            image = self.transform(image)\n",
        "        return image, label\n",
        "\n",
        "# Define transformations\n",
        "transform = transforms.Compose([\n",
        "    transforms.ToPILImage(),\n",
        "    transforms.Resize((224, 224)),\n",
        "    transforms.Grayscale(num_output_channels=3),  # Convert single-channel to three channels\n",
        "    transforms.ToTensor(),\n",
        "    transforms.Normalize((0.5,), (0.5,))\n",
        "])"
      ]
    },
    {
      "cell_type": "code",
      "execution_count": 5,
      "metadata": {
        "id": "SGDEBozJHceJ"
      },
      "outputs": [],
      "source": [
        "import os\n",
        "\n",
        "PATH='drive/MyDrive/Subjectivity'\n",
        "\n",
        "# Load the dataset\n",
        "csv_file = os.path.join(PATH, 'data', 'characters.csv')\n",
        "train_dataset = CharacterDataset(csv_file, transform=transform)"
      ]
    },
    {
      "cell_type": "code",
      "execution_count": 6,
      "metadata": {
        "id": "yj8cbat-HXZ1"
      },
      "outputs": [],
      "source": [
        "\n",
        "test_csv_file = os.path.join(PATH, 'data', 'characters-test.csv')\n",
        "\n",
        "test_dataset = CharacterDataset(test_csv_file, transform=transform)"
      ]
    },
    {
      "cell_type": "code",
      "execution_count": 7,
      "metadata": {
        "id": "OIFQpCgZxTJC"
      },
      "outputs": [],
      "source": [
        "mapping_file = os.path.join(PATH, 'data', 'mapping.txt')\n",
        "mapping = load_mapping(mapping_file)"
      ]
    },
    {
      "cell_type": "code",
      "execution_count": 8,
      "metadata": {
        "id": "8VQAGv9xGzRi"
      },
      "outputs": [],
      "source": [
        "\n",
        "# Function to create the model\n",
        "def create_model():\n",
        "    model = models.resnet18(pretrained=True)\n",
        "\n",
        "    # Move the model to GPU if available\n",
        "    device = torch.device(\"cuda:0\" if torch.cuda.is_available() else \"cpu\")\n",
        "    model = model.to(device)\n",
        "\n",
        "    print(device)\n",
        "\n",
        "    num_ftrs = model.fc.in_features\n",
        "    model.fc = nn.Linear(num_ftrs, len(mapping))\n",
        "\n",
        "    # Freeze all layers except the last three\n",
        "    for name, param in model.named_parameters():\n",
        "        if \"layer4\" not in name and \"fc\" not in name:\n",
        "            param.requires_grad = False\n",
        "\n",
        "    return model\n",
        "\n",
        "# Function to train the model\n",
        "def train_model(model, train_dataloader, learning_rate, num_epochs=10):\n",
        "    device = torch.device(\"cuda:0\" if torch.cuda.is_available() else \"cpu\")\n",
        "    model = model.to(device)\n",
        "    criterion = nn.CrossEntropyLoss()\n",
        "    optimizer = optim.Adam(filter(lambda p: p.requires_grad, model.parameters()), lr=learning_rate)\n",
        "\n",
        "    for epoch in range(num_epochs):\n",
        "        model.train()\n",
        "        running_loss = 0.0\n",
        "        for images, labels in train_dataloader:\n",
        "            images, labels = images.to(device), labels.to(device)\n",
        "            optimizer.zero_grad()\n",
        "            outputs = model(images)\n",
        "            loss = criterion(outputs, labels)\n",
        "            loss.backward()\n",
        "            optimizer.step()\n",
        "            running_loss += loss.item()\n",
        "        print(f'Epoch [{epoch+1}/{num_epochs}], Loss: {running_loss/len(train_dataloader)}')\n",
        "\n",
        "    return model\n",
        "\n",
        "# Function to save the model\n",
        "def save_model(model, learning_rate, batch_size):\n",
        "    model_path = f'resnet18_finetuned_lr{learning_rate}_bs{batch_size}.pth'\n",
        "    torch.save(model.state_dict(), model_path)\n",
        "    print(f'Model saved to {model_path}')\n",
        "\n",
        "# Function to evaluate the model\n",
        "def evaluate_model(model, test_dataloader):\n",
        "    device = torch.device(\"cuda:0\" if torch.cuda.is_available() else \"cpu\")\n",
        "    model = model.to(device)\n",
        "    model.eval()\n",
        "    correct = 0\n",
        "    total = 0\n",
        "    with torch.no_grad():\n",
        "        for images, labels in test_dataloader:\n",
        "            images, labels = images.to(device), labels.to(device)\n",
        "            outputs = model(images)\n",
        "            _, predicted = torch.max(outputs.data, 1)\n",
        "            total += labels.size(0)\n",
        "            correct += (predicted == labels).sum().item()\n",
        "\n",
        "    accuracy = 100 * correct / total\n",
        "    print(f'Test Accuracy: {accuracy}%')\n",
        "    return accuracy\n",
        "\n"
      ]
    },
    {
      "cell_type": "code",
      "execution_count": null,
      "metadata": {
        "colab": {
          "base_uri": "https://localhost:8080/"
        },
        "id": "-ohJHUjNG-6R",
        "outputId": "9be8e242-6fbf-4979-bbad-43c73dcd3382"
      },
      "outputs": [
        {
          "name": "stdout",
          "output_type": "stream",
          "text": [
            "Training with learning rate: 0.0001, batch size: 32\n"
          ]
        },
        {
          "name": "stderr",
          "output_type": "stream",
          "text": [
            "/usr/local/lib/python3.10/dist-packages/torchvision/models/_utils.py:208: UserWarning: The parameter 'pretrained' is deprecated since 0.13 and may be removed in the future, please use 'weights' instead.\n",
            "  warnings.warn(\n",
            "/usr/local/lib/python3.10/dist-packages/torchvision/models/_utils.py:223: UserWarning: Arguments other than a weight enum or `None` for 'weights' are deprecated since 0.13 and may be removed in the future. The current behavior is equivalent to passing `weights=ResNet18_Weights.IMAGENET1K_V1`. You can also use `weights=ResNet18_Weights.DEFAULT` to get the most up-to-date weights.\n",
            "  warnings.warn(msg)\n",
            "Downloading: \"https://download.pytorch.org/models/resnet18-f37072fd.pth\" to /root/.cache/torch/hub/checkpoints/resnet18-f37072fd.pth\n",
            "100%|██████████| 44.7M/44.7M [00:00<00:00, 150MB/s]\n"
          ]
        },
        {
          "name": "stdout",
          "output_type": "stream",
          "text": [
            "cpu\n"
          ]
        }
      ],
      "source": [
        "# Experiment with different learning rates and batch sizes\n",
        "learning_rates = [0.0001]\n",
        "batch_sizes = [32, 64]\n",
        "\n",
        "results = []\n",
        "for lr in learning_rates:\n",
        "    for bs in batch_sizes:\n",
        "        print(f'Training with learning rate: {lr}, batch size: {bs}')\n",
        "\n",
        "        # Create DataLoader for training\n",
        "        train_dataloader = DataLoader(train_dataset, batch_size=bs, shuffle=True)\n",
        "        test_dataloader = DataLoader(test_dataset, batch_size=bs, shuffle=False)\n",
        "\n",
        "        # Create and train the model\n",
        "        model = create_model()\n",
        "        model = train_model(model, train_dataloader, lr)\n",
        "\n",
        "        # Save the model\n",
        "        save_model(model, lr, bs)\n",
        "\n",
        "        # Evaluate the model\n",
        "        accuracy = evaluate_model(model, test_dataloader)\n",
        "        results.append((lr, bs, accuracy))\n",
        "\n",
        "# Print results\n",
        "for lr, bs, acc in results:\n",
        "    print(f'Learning Rate: {lr}, Batch Size: {bs}, Test Accuracy: {acc}%')"
      ]
    },
    {
      "cell_type": "code",
      "execution_count": null,
      "metadata": {},
      "outputs": [],
      "source": [
        "import pandas as pd\n",
        "import torch\n",
        "from torch.utils.data import Dataset, DataLoader\n",
        "from torchvision import transforms\n",
        "import torch.nn as nn\n",
        "import torch.optim as optim\n",
        "import os\n",
        "\n",
        "class CharacterDataset(Dataset):\n",
        "    def __init__(self, csv_file, transform=None):\n",
        "        self.data = pd.read_csv(csv_file)\n",
        "        self.labels = self.data.iloc[:, 0].values\n",
        "        self.images = self.data.iloc[:, 1:].values.reshape(-1, 28, 28).astype('float32')\n",
        "        self.transform = transform\n",
        "\n",
        "    def __len__(self):\n",
        "        return len(self.data)\n",
        "\n",
        "    def __getitem__(self, idx):\n",
        "        image = self.images[idx]\n",
        "        label = self.labels[idx]\n",
        "        if self.transform:\n",
        "            image = self.transform(image)\n",
        "        return image, label\n",
        "\n",
        "# Load the mapping from mapping.txt\n",
        "def load_mapping(mapping_file):\n",
        "    mapping = {}\n",
        "    with open(mapping_file, 'r') as f:\n",
        "        for line in f:\n",
        "            key, value = line.strip().split()\n",
        "            mapping[int(key)] = chr(int(value))\n",
        "    return mapping\n",
        "\n",
        "# Define transformations\n",
        "transform = transforms.Compose([\n",
        "    transforms.ToPILImage(),\n",
        "    transforms.Resize((28, 28)),\n",
        "    transforms.Grayscale(num_output_channels=1),  # Ensure single-channel images\n",
        "    transforms.ToTensor(),\n",
        "    transforms.Normalize((0.5,), (0.5,))\n",
        "])\n",
        "\n",
        "# Load the training dataset\n",
        "csv_file = 'characters.csv'\n",
        "mapping_file = 'mapping.txt'\n",
        "mapping = load_mapping(mapping_file)\n",
        "train_dataset = CharacterDataset(csv_file, transform=transform)\n",
        "\n",
        "# Load the test dataset\n",
        "test_csv_file = 'characters_test.csv'\n",
        "test_dataset = CharacterDataset(test_csv_file, transform=transform)\n",
        "\n",
        "# Custom CNN class\n",
        "class CustomCNN(nn.Module):\n",
        "    def __init__(self, num_classes, num_conv_layers=3, num_fc_layers=2, dropout_rate=0.5):\n",
        "        super(CustomCNN, self).__init__()\n",
        "        self.conv_layers = nn.ModuleList()\n",
        "        self.fc_layers = nn.ModuleList()\n",
        "        \n",
        "        # Add convolutional layers\n",
        "        in_channels = 1\n",
        "        out_channels = 32\n",
        "        for _ in range(num_conv_layers):\n",
        "            self.conv_layers.append(nn.Conv2d(in_channels, out_channels, kernel_size=3, stride=1, padding=1))\n",
        "            self.conv_layers.append(nn.ReLU())\n",
        "            self.conv_layers.append(nn.MaxPool2d(kernel_size=2, stride=2, padding=0))\n",
        "            in_channels = out_channels\n",
        "            out_channels *= 2\n",
        "        \n",
        "        # Calculate the size of the flattened feature map\n",
        "        self.flattened_size = in_channels * (28 // (2 ** num_conv_layers)) ** 2\n",
        "        \n",
        "        # Add fully connected layers\n",
        "        in_features = self.flattened_size\n",
        "        out_features = 256\n",
        "        for _ in range(num_fc_layers - 1):\n",
        "            self.fc_layers.append(nn.Linear(in_features, out_features))\n",
        "            self.fc_layers.append(nn.ReLU())\n",
        "            self.fc_layers.append(nn.Dropout(dropout_rate))\n",
        "            in_features = out_features\n",
        "        \n",
        "        # Add the final fully connected layer\n",
        "        self.fc_layers.append(nn.Linear(in_features, num_classes))\n",
        "\n",
        "    def forward(self, x):\n",
        "        for layer in self.conv_layers:\n",
        "            x = layer(x)\n",
        "        x = x.view(-1, self.flattened_size)\n",
        "        for layer in self.fc_layers:\n",
        "            x = layer(x)\n",
        "        return x\n",
        "\n",
        "# Function to train the model\n",
        "def train_model(model, train_dataloader, learning_rate, num_epochs=10):\n",
        "    device = torch.device(\"cuda:0\" if torch.cuda.is_available() else \"cpu\")\n",
        "    model = model.to(device)\n",
        "    criterion = nn.CrossEntropyLoss()\n",
        "    optimizer = optim.Adam(model.parameters(), lr=learning_rate)\n",
        "\n",
        "    for epoch in range(num_epochs):\n",
        "        model.train()\n",
        "        running_loss = 0.0\n",
        "        for images, labels in train_dataloader:\n",
        "            images, labels = images.to(device), labels.to(device)\n",
        "            optimizer.zero_grad()\n",
        "            outputs = model(images)\n",
        "            loss = criterion(outputs, labels)\n",
        "            loss.backward()\n",
        "            optimizer.step()\n",
        "            running_loss += loss.item()\n",
        "        print(f'Epoch [{epoch+1}/{num_epochs}], Loss: {running_loss/len(train_dataloader)}')\n",
        "\n",
        "    return model\n",
        "\n",
        "# Function to save the model\n",
        "def save_model(model, learning_rate, batch_size, num_conv_layers, num_fc_layers):\n",
        "    model_path = f'custom_cnn_lr{learning_rate}_bs{batch_size}_conv{num_conv_layers}_fc{num_fc_layers}.pth'\n",
        "    torch.save(model.state_dict(), model_path)\n",
        "    print(f'Model saved to {model_path}')\n",
        "\n",
        "# Function to evaluate the model\n",
        "def evaluate_model(model, test_dataloader):\n",
        "    device = torch.device(\"cuda:0\" if torch.cuda.is_available() else \"cpu\")\n",
        "    model = model.to(device)\n",
        "    model.eval()\n",
        "    correct = 0\n",
        "    total = 0\n",
        "    with torch.no_grad():\n",
        "        for images, labels in test_dataloader:\n",
        "            images, labels = images.to(device), labels.to(device)\n",
        "            outputs = model(images)\n",
        "            _, predicted = torch.max(outputs.data, 1)\n",
        "            total += labels.size(0)\n",
        "            correct += (predicted == labels).sum().item()\n",
        "\n",
        "    accuracy = 100 * correct / total\n",
        "    print(f'Test Accuracy: {accuracy}%')\n",
        "    return accuracy\n",
        "\n",
        "# Experiment with different hyperparameters\n",
        "learning_rates = [0.001]\n",
        "batch_sizes = [64]\n",
        "num_conv_layers_list = [2, 3]\n",
        "num_fc_layers_list = [1, 2]\n",
        "\n",
        "results = []\n",
        "for lr in learning_rates:\n",
        "    for bs in batch_sizes:\n",
        "        for num_conv_layers in num_conv_layers_list:\n",
        "            for num_fc_layers in num_fc_layers_list:\n",
        "                print(f'Training with learning rate: {lr}, batch size: {bs}, conv layers: {num_conv_layers}, fc layers: {num_fc_layers}')\n",
        "                \n",
        "                # Create DataLoader for training\n",
        "                train_dataloader = DataLoader(train_dataset, batch_size=bs, shuffle=True)\n",
        "                test_dataloader = DataLoader(test_dataset, batch_size=bs, shuffle=False)\n",
        "                \n",
        "                # Create and train the model\n",
        "                model = CustomCNN(num_classes=len(mapping), num_conv_layers=num_conv_layers, num_fc_layers=num_fc_layers)\n",
        "                model = train_model(model, train_dataloader, lr)\n",
        "                \n",
        "                # Save the model\n",
        "                save_model(model, lr, bs, num_conv_layers, num_fc_layers)\n",
        "                \n",
        "                # Evaluate the model\n",
        "                accuracy = evaluate_model(model, test_dataloader)\n",
        "                results.append((lr, bs, num_conv_layers, num_fc_layers, accuracy))\n",
        "\n",
        "# Print results\n",
        "for lr, bs, num_conv_layers, num_fc_layers, acc in results:\n",
        "    print(f'Learning Rate: {lr}, Batch Size: {bs}, Conv Layers: {num_conv_layers}, FC Layers: {num_fc_layers}, Test Accuracy: {acc}%')"
      ]
    }
  ],
  "metadata": {
    "accelerator": "GPU",
    "colab": {
      "gpuType": "T4",
      "provenance": []
    },
    "kernelspec": {
      "display_name": "Python 3",
      "name": "python3"
    },
    "language_info": {
      "codemirror_mode": {
        "name": "ipython",
        "version": 3
      },
      "file_extension": ".py",
      "mimetype": "text/x-python",
      "name": "python",
      "nbconvert_exporter": "python",
      "pygments_lexer": "ipython3",
      "version": "3.12.1"
    }
  },
  "nbformat": 4,
  "nbformat_minor": 0
}
